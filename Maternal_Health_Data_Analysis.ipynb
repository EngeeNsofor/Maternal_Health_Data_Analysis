{
 "cells": [
  {
   "cell_type": "markdown",
   "id": "3715f302",
   "metadata": {},
   "source": [
    "# Maternal Health Data Analysis"
   ]
  },
  {
   "cell_type": "markdown",
   "id": "22e40ea6",
   "metadata": {},
   "source": [
    "### Context"
   ]
  },
  {
   "cell_type": "markdown",
   "id": "1f998d1c",
   "metadata": {},
   "source": [
    "The health of women throughout pregnancy, childbirth, and the postpartum period is referred to as maternal health. Despite significant advancement over the past 20 years, 295,000 women died during or after pregnancy and childbirth in 2017. This number is unacceptably high. In addition to indirect factors including anaemia, and malaria, the most frequent direct causes of maternal injury and death are excessive blood loss, infection, and high blood pressure. Most maternal deaths are preventable with timely management by skilled professionals working together across different disciplines.  "
   ]
  },
  {
   "cell_type": "markdown",
   "id": "91037891",
   "metadata": {},
   "source": [
    "### Objective\n",
    "As a data scientist working alongside clinicians, this project aims to analyze maternal health data, and identify evidence based actions with an aim to improve health outcomes.  "
   ]
  },
  {
   "cell_type": "markdown",
   "id": "31581077",
   "metadata": {},
   "source": [
    "### Data \n",
    "\n",
    "**Age** - Age of the patient in years  \n",
    "**SystolicBP** - Systolic Blood Pressure reading in mmHg (upper blood pressure value) - **Response Variable**  \n",
    "**DiastolicBP** - Diastolic Blood Pressure reading in mmHg (lower blood pressure value)  \n",
    "**BS** - Blood Sugar level in mmol/L  \n",
    "**BodyTemp** - Body Temperature reading  \n",
    "**HeartRate** - Heart Rate reading in beats per minute  \n",
    "**RiskLevel** - Risk Level rating (high, low and mid)"
   ]
  },
  {
   "cell_type": "markdown",
   "id": "705d21a2",
   "metadata": {},
   "source": [
    "## Import relevant libraries\n",
    "\n",
    "First, we import relevant libraries to aid our analysis"
   ]
  },
  {
   "cell_type": "code",
   "execution_count": 1,
   "id": "45a55181",
   "metadata": {},
   "outputs": [],
   "source": [
    "# importing relevant libraries\n",
    "\n",
    "import pandas as pd # for data processing\n",
    "import numpy as np # for numerical computations\n",
    "\n",
    "# for visualizations\n",
    "import seaborn as sns \n",
    "import matplotlib.pyplot as plt\n",
    "\n",
    "# To split the data into train and test sets\n",
    "from sklearn.model_selection import train_test_split\n",
    "\n",
    "# For data normalisation\n",
    "from sklearn.preprocessing import StandardScaler\n",
    "\n",
    "# For building linear models\n",
    "from sklearn.linear_model import LinearRegression\n",
    "\n",
    "# For evaluating the performance of the model\n",
    "from sklearn.metrics import accuracy_score, mean_squared_error, r2_score, mean_absolute_error"
   ]
  },
  {
   "cell_type": "markdown",
   "id": "1da8ce89",
   "metadata": {},
   "source": [
    "## Read in the data\n",
    "Next, we read in the data to be used for the analysis.  \n",
    "I would also be making a copy of the data and using the copy for the analysis. This is to preserve the integrity of the original data."
   ]
  },
  {
   "cell_type": "code",
   "execution_count": 2,
   "id": "e7edd47b",
   "metadata": {},
   "outputs": [
    {
     "data": {
      "text/html": [
       "<div>\n",
       "<style scoped>\n",
       "    .dataframe tbody tr th:only-of-type {\n",
       "        vertical-align: middle;\n",
       "    }\n",
       "\n",
       "    .dataframe tbody tr th {\n",
       "        vertical-align: top;\n",
       "    }\n",
       "\n",
       "    .dataframe thead th {\n",
       "        text-align: right;\n",
       "    }\n",
       "</style>\n",
       "<table border=\"1\" class=\"dataframe\">\n",
       "  <thead>\n",
       "    <tr style=\"text-align: right;\">\n",
       "      <th></th>\n",
       "      <th>Age</th>\n",
       "      <th>SystolicBP</th>\n",
       "      <th>DiastolicBP</th>\n",
       "      <th>BS</th>\n",
       "      <th>BodyTemp</th>\n",
       "      <th>HeartRate</th>\n",
       "      <th>RiskLevel</th>\n",
       "    </tr>\n",
       "  </thead>\n",
       "  <tbody>\n",
       "    <tr>\n",
       "      <th>0</th>\n",
       "      <td>25</td>\n",
       "      <td>130</td>\n",
       "      <td>80</td>\n",
       "      <td>15.0</td>\n",
       "      <td>98.0</td>\n",
       "      <td>86</td>\n",
       "      <td>high risk</td>\n",
       "    </tr>\n",
       "    <tr>\n",
       "      <th>1</th>\n",
       "      <td>35</td>\n",
       "      <td>140</td>\n",
       "      <td>90</td>\n",
       "      <td>13.0</td>\n",
       "      <td>98.0</td>\n",
       "      <td>70</td>\n",
       "      <td>high risk</td>\n",
       "    </tr>\n",
       "    <tr>\n",
       "      <th>2</th>\n",
       "      <td>29</td>\n",
       "      <td>90</td>\n",
       "      <td>70</td>\n",
       "      <td>8.0</td>\n",
       "      <td>100.0</td>\n",
       "      <td>80</td>\n",
       "      <td>high risk</td>\n",
       "    </tr>\n",
       "    <tr>\n",
       "      <th>3</th>\n",
       "      <td>30</td>\n",
       "      <td>140</td>\n",
       "      <td>85</td>\n",
       "      <td>7.0</td>\n",
       "      <td>98.0</td>\n",
       "      <td>70</td>\n",
       "      <td>high risk</td>\n",
       "    </tr>\n",
       "    <tr>\n",
       "      <th>4</th>\n",
       "      <td>35</td>\n",
       "      <td>120</td>\n",
       "      <td>60</td>\n",
       "      <td>6.1</td>\n",
       "      <td>98.0</td>\n",
       "      <td>76</td>\n",
       "      <td>low risk</td>\n",
       "    </tr>\n",
       "  </tbody>\n",
       "</table>\n",
       "</div>"
      ],
      "text/plain": [
       "   Age  SystolicBP  DiastolicBP    BS  BodyTemp  HeartRate  RiskLevel\n",
       "0   25         130           80  15.0      98.0         86  high risk\n",
       "1   35         140           90  13.0      98.0         70  high risk\n",
       "2   29          90           70   8.0     100.0         80  high risk\n",
       "3   30         140           85   7.0      98.0         70  high risk\n",
       "4   35         120           60   6.1      98.0         76   low risk"
      ]
     },
     "execution_count": 2,
     "metadata": {},
     "output_type": "execute_result"
    }
   ],
   "source": [
    "# reading in the datda\n",
    "data = pd.read_csv('mhs.csv') # reading in the data\n",
    "\n",
    "df = data.copy() # making a copy of the data\n",
    "\n",
    "df.head() # displaying the first 5 rows of the data"
   ]
  },
  {
   "cell_type": "markdown",
   "id": "fba7d0e3",
   "metadata": {},
   "source": [
    "- At first glance, the data seems okay. There are no unnecessary columns in the dataset\n",
    "- There are 6 columns with numerical data type and 1 column with object data type."
   ]
  },
  {
   "cell_type": "markdown",
   "id": "c748f904",
   "metadata": {},
   "source": [
    "## Perform Exploratory Data Analysis\n",
    "\n",
    "Exploratory Data Analysis helps us find patterns and get insights from the data.   \n",
    "\n",
    "Since the end goal of the exploration is to build a linear regression model, it is important to perform univariate and bivariate analysis on the data.\n",
    "\n",
    "This would be useful in selecting the independent variables that best fits the assumptions of linear regression so that we can use them to build the model."
   ]
  },
  {
   "cell_type": "markdown",
   "id": "66324ae9",
   "metadata": {},
   "source": [
    "### Dimension of the data\n",
    "Checking the dimension of the data"
   ]
  },
  {
   "cell_type": "code",
   "execution_count": 3,
   "id": "a3c9210f",
   "metadata": {},
   "outputs": [
    {
     "data": {
      "text/plain": [
       "(1014, 7)"
      ]
     },
     "execution_count": 3,
     "metadata": {},
     "output_type": "execute_result"
    }
   ],
   "source": [
    "# Checking the dimension of the data\n",
    "df.shape"
   ]
  },
  {
   "cell_type": "markdown",
   "id": "604b39ef",
   "metadata": {},
   "source": [
    "- There are 1,014 rows and 7 columns in the data"
   ]
  },
  {
   "cell_type": "markdown",
   "id": "0ad9ae05",
   "metadata": {},
   "source": [
    "### Null values\n",
    "Checking for null values in the data"
   ]
  },
  {
   "cell_type": "code",
   "execution_count": 4,
   "id": "c8fb6acd",
   "metadata": {},
   "outputs": [
    {
     "data": {
      "text/plain": [
       "Age            0\n",
       "SystolicBP     0\n",
       "DiastolicBP    0\n",
       "BS             0\n",
       "BodyTemp       0\n",
       "HeartRate      0\n",
       "RiskLevel      0\n",
       "dtype: int64"
      ]
     },
     "execution_count": 4,
     "metadata": {},
     "output_type": "execute_result"
    }
   ],
   "source": [
    "# checking for null values\n",
    "df.isnull().sum()"
   ]
  },
  {
   "cell_type": "markdown",
   "id": "a684641e",
   "metadata": {},
   "source": [
    "- There are no null values in any of the columns"
   ]
  },
  {
   "cell_type": "markdown",
   "id": "4c30cbb6",
   "metadata": {},
   "source": [
    "### Empty values\n",
    "The data has a column with object data type. It is important to check for empty strings in the data as these will not appear as null values"
   ]
  },
  {
   "cell_type": "code",
   "execution_count": 5,
   "id": "2de399cf",
   "metadata": {},
   "outputs": [],
   "source": [
    "# function to check for empty values\n",
    "def check_empty_values(df):\n",
    "    \"\"\"Function to check for empty values in the input dataframe\n",
    "    Args:\n",
    "        df: the dataframe\n",
    "    \"\"\"\n",
    "    for i in df.columns: # looping through each column in the dataset \n",
    "        for row, value in enumerate(df[i]): # looping through each row in the columns\n",
    "            if value == ' ': # looking for empty strings\n",
    "                print(f'Empty value found on row: {row} in column: {i}') # prints this if an empty value is found\n",
    "            else:\n",
    "                pass\n",
    "    print(\"No empty values found\") # prints this if empty values are not found"
   ]
  },
  {
   "cell_type": "code",
   "execution_count": 6,
   "id": "e4a78247",
   "metadata": {},
   "outputs": [
    {
     "name": "stdout",
     "output_type": "stream",
     "text": [
      "No empty values found\n"
     ]
    }
   ],
   "source": [
    "# calling the function on the dataframe (df)\n",
    "check_empty_values(df)"
   ]
  },
  {
   "cell_type": "markdown",
   "id": "99b67065",
   "metadata": {},
   "source": [
    "- No empty values were found in the dataset"
   ]
  },
  {
   "cell_type": "markdown",
   "id": "7d8cb97a",
   "metadata": {},
   "source": [
    "### Duplicated values\n",
    "We need to check the data for duplicated values."
   ]
  },
  {
   "cell_type": "code",
   "execution_count": 7,
   "id": "9e1891cb",
   "metadata": {},
   "outputs": [
    {
     "data": {
      "text/plain": [
       "562"
      ]
     },
     "execution_count": 7,
     "metadata": {},
     "output_type": "execute_result"
    }
   ],
   "source": [
    "# checking for duplicated values\n",
    "df.duplicated().sum()"
   ]
  },
  {
   "cell_type": "markdown",
   "id": "0f8b81e5",
   "metadata": {},
   "source": [
    "There are 562 duplicated values. However, I would not be removing the duplicated values for the following reasons:\n",
    "- There is no unique identifier such as Patient ID or Patient Name to suggest that these values are duplicates\n",
    "- Different patients can have similar medical results"
   ]
  },
  {
   "cell_type": "markdown",
   "id": "7c31be88",
   "metadata": {},
   "source": [
    "### Summary information of the dataset"
   ]
  },
  {
   "cell_type": "code",
   "execution_count": 8,
   "id": "acf6c3f1",
   "metadata": {},
   "outputs": [
    {
     "name": "stdout",
     "output_type": "stream",
     "text": [
      "<class 'pandas.core.frame.DataFrame'>\n",
      "RangeIndex: 1014 entries, 0 to 1013\n",
      "Data columns (total 7 columns):\n",
      " #   Column       Non-Null Count  Dtype  \n",
      "---  ------       --------------  -----  \n",
      " 0   Age          1014 non-null   int64  \n",
      " 1   SystolicBP   1014 non-null   int64  \n",
      " 2   DiastolicBP  1014 non-null   int64  \n",
      " 3   BS           1014 non-null   float64\n",
      " 4   BodyTemp     1014 non-null   float64\n",
      " 5   HeartRate    1014 non-null   int64  \n",
      " 6   RiskLevel    1014 non-null   object \n",
      "dtypes: float64(2), int64(4), object(1)\n",
      "memory usage: 55.6+ KB\n"
     ]
    }
   ],
   "source": [
    "# checking the summary information of the dataset\n",
    "df.info()"
   ]
  },
  {
   "cell_type": "markdown",
   "id": "ebe55eba",
   "metadata": {},
   "source": [
    "- There are **7 columns** in the dataframe\n",
    "- There are **1014 rows** and **no null values** in the dataframe\n",
    "- The `Age`, `SystolicBP`, `DiastolicBP` and `HeartRate` columns are integers\n",
    "- The `BS` and `BodyTemp` columns are floats\n",
    "- The `RiskLevel` column is an object"
   ]
  },
  {
   "cell_type": "markdown",
   "id": "b5754c3c",
   "metadata": {},
   "source": [
    "### Statistical overview of the numerical data in the dataset\n",
    "I would be creating a subset of the data that includes only the numerical variables to get the statistical overview"
   ]
  },
  {
   "cell_type": "code",
   "execution_count": 9,
   "id": "41afddd2",
   "metadata": {},
   "outputs": [
    {
     "data": {
      "text/html": [
       "<div>\n",
       "<style scoped>\n",
       "    .dataframe tbody tr th:only-of-type {\n",
       "        vertical-align: middle;\n",
       "    }\n",
       "\n",
       "    .dataframe tbody tr th {\n",
       "        vertical-align: top;\n",
       "    }\n",
       "\n",
       "    .dataframe thead th {\n",
       "        text-align: right;\n",
       "    }\n",
       "</style>\n",
       "<table border=\"1\" class=\"dataframe\">\n",
       "  <thead>\n",
       "    <tr style=\"text-align: right;\">\n",
       "      <th></th>\n",
       "      <th>Age</th>\n",
       "      <th>SystolicBP</th>\n",
       "      <th>DiastolicBP</th>\n",
       "      <th>BS</th>\n",
       "      <th>BodyTemp</th>\n",
       "      <th>HeartRate</th>\n",
       "    </tr>\n",
       "  </thead>\n",
       "  <tbody>\n",
       "    <tr>\n",
       "      <th>0</th>\n",
       "      <td>25</td>\n",
       "      <td>130</td>\n",
       "      <td>80</td>\n",
       "      <td>15.0</td>\n",
       "      <td>98.0</td>\n",
       "      <td>86</td>\n",
       "    </tr>\n",
       "    <tr>\n",
       "      <th>1</th>\n",
       "      <td>35</td>\n",
       "      <td>140</td>\n",
       "      <td>90</td>\n",
       "      <td>13.0</td>\n",
       "      <td>98.0</td>\n",
       "      <td>70</td>\n",
       "    </tr>\n",
       "    <tr>\n",
       "      <th>2</th>\n",
       "      <td>29</td>\n",
       "      <td>90</td>\n",
       "      <td>70</td>\n",
       "      <td>8.0</td>\n",
       "      <td>100.0</td>\n",
       "      <td>80</td>\n",
       "    </tr>\n",
       "    <tr>\n",
       "      <th>3</th>\n",
       "      <td>30</td>\n",
       "      <td>140</td>\n",
       "      <td>85</td>\n",
       "      <td>7.0</td>\n",
       "      <td>98.0</td>\n",
       "      <td>70</td>\n",
       "    </tr>\n",
       "    <tr>\n",
       "      <th>4</th>\n",
       "      <td>35</td>\n",
       "      <td>120</td>\n",
       "      <td>60</td>\n",
       "      <td>6.1</td>\n",
       "      <td>98.0</td>\n",
       "      <td>76</td>\n",
       "    </tr>\n",
       "  </tbody>\n",
       "</table>\n",
       "</div>"
      ],
      "text/plain": [
       "   Age  SystolicBP  DiastolicBP    BS  BodyTemp  HeartRate\n",
       "0   25         130           80  15.0      98.0         86\n",
       "1   35         140           90  13.0      98.0         70\n",
       "2   29          90           70   8.0     100.0         80\n",
       "3   30         140           85   7.0      98.0         70\n",
       "4   35         120           60   6.1      98.0         76"
      ]
     },
     "execution_count": 9,
     "metadata": {},
     "output_type": "execute_result"
    }
   ],
   "source": [
    "# separating the numerical variables from the dataset\n",
    "num_df = df.select_dtypes(include='number') # creating a dataframe of only numerical variables\n",
    "num_df.head(5) # displaying the first 5 rows of the dataframe"
   ]
  },
  {
   "cell_type": "code",
   "execution_count": 10,
   "id": "189e89a8",
   "metadata": {},
   "outputs": [
    {
     "data": {
      "text/html": [
       "<div>\n",
       "<style scoped>\n",
       "    .dataframe tbody tr th:only-of-type {\n",
       "        vertical-align: middle;\n",
       "    }\n",
       "\n",
       "    .dataframe tbody tr th {\n",
       "        vertical-align: top;\n",
       "    }\n",
       "\n",
       "    .dataframe thead th {\n",
       "        text-align: right;\n",
       "    }\n",
       "</style>\n",
       "<table border=\"1\" class=\"dataframe\">\n",
       "  <thead>\n",
       "    <tr style=\"text-align: right;\">\n",
       "      <th></th>\n",
       "      <th>count</th>\n",
       "      <th>mean</th>\n",
       "      <th>std</th>\n",
       "      <th>min</th>\n",
       "      <th>25%</th>\n",
       "      <th>50%</th>\n",
       "      <th>75%</th>\n",
       "      <th>max</th>\n",
       "    </tr>\n",
       "  </thead>\n",
       "  <tbody>\n",
       "    <tr>\n",
       "      <th>Age</th>\n",
       "      <td>1014.0</td>\n",
       "      <td>29.871795</td>\n",
       "      <td>13.474386</td>\n",
       "      <td>10.0</td>\n",
       "      <td>19.0</td>\n",
       "      <td>26.0</td>\n",
       "      <td>39.0</td>\n",
       "      <td>70.0</td>\n",
       "    </tr>\n",
       "    <tr>\n",
       "      <th>SystolicBP</th>\n",
       "      <td>1014.0</td>\n",
       "      <td>113.198225</td>\n",
       "      <td>18.403913</td>\n",
       "      <td>70.0</td>\n",
       "      <td>100.0</td>\n",
       "      <td>120.0</td>\n",
       "      <td>120.0</td>\n",
       "      <td>160.0</td>\n",
       "    </tr>\n",
       "    <tr>\n",
       "      <th>DiastolicBP</th>\n",
       "      <td>1014.0</td>\n",
       "      <td>76.460552</td>\n",
       "      <td>13.885796</td>\n",
       "      <td>49.0</td>\n",
       "      <td>65.0</td>\n",
       "      <td>80.0</td>\n",
       "      <td>90.0</td>\n",
       "      <td>100.0</td>\n",
       "    </tr>\n",
       "    <tr>\n",
       "      <th>BS</th>\n",
       "      <td>1014.0</td>\n",
       "      <td>8.725986</td>\n",
       "      <td>3.293532</td>\n",
       "      <td>6.0</td>\n",
       "      <td>6.9</td>\n",
       "      <td>7.5</td>\n",
       "      <td>8.0</td>\n",
       "      <td>19.0</td>\n",
       "    </tr>\n",
       "    <tr>\n",
       "      <th>BodyTemp</th>\n",
       "      <td>1014.0</td>\n",
       "      <td>98.665089</td>\n",
       "      <td>1.371384</td>\n",
       "      <td>98.0</td>\n",
       "      <td>98.0</td>\n",
       "      <td>98.0</td>\n",
       "      <td>98.0</td>\n",
       "      <td>103.0</td>\n",
       "    </tr>\n",
       "    <tr>\n",
       "      <th>HeartRate</th>\n",
       "      <td>1014.0</td>\n",
       "      <td>74.301775</td>\n",
       "      <td>8.088702</td>\n",
       "      <td>7.0</td>\n",
       "      <td>70.0</td>\n",
       "      <td>76.0</td>\n",
       "      <td>80.0</td>\n",
       "      <td>90.0</td>\n",
       "    </tr>\n",
       "  </tbody>\n",
       "</table>\n",
       "</div>"
      ],
      "text/plain": [
       "              count        mean        std   min    25%    50%    75%    max\n",
       "Age          1014.0   29.871795  13.474386  10.0   19.0   26.0   39.0   70.0\n",
       "SystolicBP   1014.0  113.198225  18.403913  70.0  100.0  120.0  120.0  160.0\n",
       "DiastolicBP  1014.0   76.460552  13.885796  49.0   65.0   80.0   90.0  100.0\n",
       "BS           1014.0    8.725986   3.293532   6.0    6.9    7.5    8.0   19.0\n",
       "BodyTemp     1014.0   98.665089   1.371384  98.0   98.0   98.0   98.0  103.0\n",
       "HeartRate    1014.0   74.301775   8.088702   7.0   70.0   76.0   80.0   90.0"
      ]
     },
     "execution_count": 10,
     "metadata": {},
     "output_type": "execute_result"
    }
   ],
   "source": [
    "# getting the statistical overview of the dataframe\n",
    "\n",
    "num_df.describe().T # the .T attribute transposes the position of the rows and columns to aid readability"
   ]
  },
  {
   "cell_type": "markdown",
   "id": "fe98c066",
   "metadata": {},
   "source": [
    "- The mean `Age is 29`. Most women in the data are between `19 - 39 years`\n",
    "- The mean `Systolic BP is 113`. Most women in the data have a `Systolic BP of between 100 - 120`\n",
    "- The mean `Diastolic BP is 76`. Most women in the data have a `Diastolic BP of between 65 - 90`\n",
    "- The mean `Blood Sugar level is 8.7`. Most women in the data have a `Blood Sugar level of between 6.9 to 8.0`\n",
    "- The mean `Body Temperature is 98.6`. Most women in the data have a `Body Temperature of 98.0`\n",
    "- The mean `Heart Rate is 74`. Most women in the data have a `Heart Rate of between 70 - 80`. "
   ]
  },
  {
   "cell_type": "markdown",
   "id": "2b4f5ba9",
   "metadata": {},
   "source": [
    "#### Observations from statistical overview"
   ]
  },
  {
   "cell_type": "markdown",
   "id": "e171e31b",
   "metadata": {},
   "source": [
    "There are some anomalies in the data:\n",
    "1. The minimum `HeartRate is 7`  \n",
    "This is not possible as humans have an `average heartrate of between 60 and 100`. Although individual heart rates can vary greatly based on factors such as age, fitness level and overall health.  \n",
    "\n",
    "\n",
    "2. The minimum and maximum age is `10 and 70 respectively`  \n",
    "Pregnancy at the age of 10 and 70, although highly unlikely, is still possible. \n",
    "\n",
    "These values could be data input errors, as in the case of the heart rate, or could be outright exceptions, as in the case of the ages 10 and 70.  "
   ]
  },
  {
   "cell_type": "markdown",
   "id": "36cd44a4",
   "metadata": {},
   "source": [
    "#### Treating data anomalies"
   ]
  },
  {
   "cell_type": "code",
   "execution_count": 11,
   "id": "ab3cb5e2",
   "metadata": {},
   "outputs": [
    {
     "data": {
      "text/html": [
       "<div>\n",
       "<style scoped>\n",
       "    .dataframe tbody tr th:only-of-type {\n",
       "        vertical-align: middle;\n",
       "    }\n",
       "\n",
       "    .dataframe tbody tr th {\n",
       "        vertical-align: top;\n",
       "    }\n",
       "\n",
       "    .dataframe thead th {\n",
       "        text-align: right;\n",
       "    }\n",
       "</style>\n",
       "<table border=\"1\" class=\"dataframe\">\n",
       "  <thead>\n",
       "    <tr style=\"text-align: right;\">\n",
       "      <th></th>\n",
       "      <th>Age</th>\n",
       "      <th>SystolicBP</th>\n",
       "      <th>DiastolicBP</th>\n",
       "      <th>BS</th>\n",
       "      <th>BodyTemp</th>\n",
       "      <th>HeartRate</th>\n",
       "      <th>RiskLevel</th>\n",
       "    </tr>\n",
       "  </thead>\n",
       "  <tbody>\n",
       "    <tr>\n",
       "      <th>19</th>\n",
       "      <td>10</td>\n",
       "      <td>70</td>\n",
       "      <td>50</td>\n",
       "      <td>6.9</td>\n",
       "      <td>98.0</td>\n",
       "      <td>70</td>\n",
       "      <td>low risk</td>\n",
       "    </tr>\n",
       "    <tr>\n",
       "      <th>250</th>\n",
       "      <td>10</td>\n",
       "      <td>85</td>\n",
       "      <td>65</td>\n",
       "      <td>6.9</td>\n",
       "      <td>98.0</td>\n",
       "      <td>70</td>\n",
       "      <td>low risk</td>\n",
       "    </tr>\n",
       "    <tr>\n",
       "      <th>670</th>\n",
       "      <td>10</td>\n",
       "      <td>100</td>\n",
       "      <td>50</td>\n",
       "      <td>6.0</td>\n",
       "      <td>99.0</td>\n",
       "      <td>70</td>\n",
       "      <td>mid risk</td>\n",
       "    </tr>\n",
       "    <tr>\n",
       "      <th>849</th>\n",
       "      <td>10</td>\n",
       "      <td>100</td>\n",
       "      <td>50</td>\n",
       "      <td>6.0</td>\n",
       "      <td>99.0</td>\n",
       "      <td>70</td>\n",
       "      <td>mid risk</td>\n",
       "    </tr>\n",
       "  </tbody>\n",
       "</table>\n",
       "</div>"
      ],
      "text/plain": [
       "     Age  SystolicBP  DiastolicBP   BS  BodyTemp  HeartRate RiskLevel\n",
       "19    10          70           50  6.9      98.0         70  low risk\n",
       "250   10          85           65  6.9      98.0         70  low risk\n",
       "670   10         100           50  6.0      99.0         70  mid risk\n",
       "849   10         100           50  6.0      99.0         70  mid risk"
      ]
     },
     "execution_count": 11,
     "metadata": {},
     "output_type": "execute_result"
    }
   ],
   "source": [
    "# subsetting the data for rows where Age is 10\n",
    "df[df['Age']==10]"
   ]
  },
  {
   "cell_type": "markdown",
   "id": "1233de8b",
   "metadata": {},
   "source": [
    "- There are 4 rows where age is 10 years. "
   ]
  },
  {
   "cell_type": "code",
   "execution_count": 12,
   "id": "b7865942",
   "metadata": {},
   "outputs": [
    {
     "data": {
      "text/html": [
       "<div>\n",
       "<style scoped>\n",
       "    .dataframe tbody tr th:only-of-type {\n",
       "        vertical-align: middle;\n",
       "    }\n",
       "\n",
       "    .dataframe tbody tr th {\n",
       "        vertical-align: top;\n",
       "    }\n",
       "\n",
       "    .dataframe thead th {\n",
       "        text-align: right;\n",
       "    }\n",
       "</style>\n",
       "<table border=\"1\" class=\"dataframe\">\n",
       "  <thead>\n",
       "    <tr style=\"text-align: right;\">\n",
       "      <th></th>\n",
       "      <th>Age</th>\n",
       "      <th>SystolicBP</th>\n",
       "      <th>DiastolicBP</th>\n",
       "      <th>BS</th>\n",
       "      <th>BodyTemp</th>\n",
       "      <th>HeartRate</th>\n",
       "      <th>RiskLevel</th>\n",
       "    </tr>\n",
       "  </thead>\n",
       "  <tbody>\n",
       "    <tr>\n",
       "      <th>338</th>\n",
       "      <td>70</td>\n",
       "      <td>85</td>\n",
       "      <td>60</td>\n",
       "      <td>6.9</td>\n",
       "      <td>102.0</td>\n",
       "      <td>70</td>\n",
       "      <td>low risk</td>\n",
       "    </tr>\n",
       "  </tbody>\n",
       "</table>\n",
       "</div>"
      ],
      "text/plain": [
       "     Age  SystolicBP  DiastolicBP   BS  BodyTemp  HeartRate RiskLevel\n",
       "338   70          85           60  6.9     102.0         70  low risk"
      ]
     },
     "execution_count": 12,
     "metadata": {},
     "output_type": "execute_result"
    }
   ],
   "source": [
    "# subsetting the data for rows where Age is 70\n",
    "df[df['Age']==70]"
   ]
  },
  {
   "cell_type": "markdown",
   "id": "c5a52d9b",
   "metadata": {},
   "source": [
    "- There is only one row where age is 70"
   ]
  },
  {
   "cell_type": "code",
   "execution_count": 13,
   "id": "33d164fc",
   "metadata": {},
   "outputs": [
    {
     "data": {
      "text/html": [
       "<div>\n",
       "<style scoped>\n",
       "    .dataframe tbody tr th:only-of-type {\n",
       "        vertical-align: middle;\n",
       "    }\n",
       "\n",
       "    .dataframe tbody tr th {\n",
       "        vertical-align: top;\n",
       "    }\n",
       "\n",
       "    .dataframe thead th {\n",
       "        text-align: right;\n",
       "    }\n",
       "</style>\n",
       "<table border=\"1\" class=\"dataframe\">\n",
       "  <thead>\n",
       "    <tr style=\"text-align: right;\">\n",
       "      <th></th>\n",
       "      <th>Age</th>\n",
       "      <th>SystolicBP</th>\n",
       "      <th>DiastolicBP</th>\n",
       "      <th>BS</th>\n",
       "      <th>BodyTemp</th>\n",
       "      <th>HeartRate</th>\n",
       "      <th>RiskLevel</th>\n",
       "    </tr>\n",
       "  </thead>\n",
       "  <tbody>\n",
       "    <tr>\n",
       "      <th>499</th>\n",
       "      <td>16</td>\n",
       "      <td>120</td>\n",
       "      <td>75</td>\n",
       "      <td>7.9</td>\n",
       "      <td>98.0</td>\n",
       "      <td>7</td>\n",
       "      <td>low risk</td>\n",
       "    </tr>\n",
       "    <tr>\n",
       "      <th>908</th>\n",
       "      <td>16</td>\n",
       "      <td>120</td>\n",
       "      <td>75</td>\n",
       "      <td>7.9</td>\n",
       "      <td>98.0</td>\n",
       "      <td>7</td>\n",
       "      <td>low risk</td>\n",
       "    </tr>\n",
       "  </tbody>\n",
       "</table>\n",
       "</div>"
      ],
      "text/plain": [
       "     Age  SystolicBP  DiastolicBP   BS  BodyTemp  HeartRate RiskLevel\n",
       "499   16         120           75  7.9      98.0          7  low risk\n",
       "908   16         120           75  7.9      98.0          7  low risk"
      ]
     },
     "execution_count": 13,
     "metadata": {},
     "output_type": "execute_result"
    }
   ],
   "source": [
    "# subsetting the data for rows where HeartRate is 7\n",
    "df[df['HeartRate']==7]"
   ]
  },
  {
   "cell_type": "markdown",
   "id": "b6c6ff44",
   "metadata": {},
   "source": [
    "- There are 2 rows where HeartRate is 7"
   ]
  },
  {
   "cell_type": "markdown",
   "id": "5b5325bf",
   "metadata": {},
   "source": [
    "#### Dropping HeartRate below 26"
   ]
  },
  {
   "cell_type": "markdown",
   "id": "0574cd1a",
   "metadata": {},
   "source": [
    "I am using 26 as a benchmark as it has been shown that the lowest ever recorded heart rate was found in an athlete at 26 beats per minute. "
   ]
  },
  {
   "cell_type": "code",
   "execution_count": 14,
   "id": "e6e389f0",
   "metadata": {},
   "outputs": [],
   "source": [
    "# dropping rows that have a heart rate less than 26\n",
    "df = df.drop(index=df[df['HeartRate'] < 26].index)"
   ]
  },
  {
   "cell_type": "markdown",
   "id": "c78fe664",
   "metadata": {},
   "source": [
    "Checking if the row has been successfully dropped"
   ]
  },
  {
   "cell_type": "code",
   "execution_count": 15,
   "id": "72cd30bb",
   "metadata": {},
   "outputs": [
    {
     "data": {
      "text/html": [
       "<div>\n",
       "<style scoped>\n",
       "    .dataframe tbody tr th:only-of-type {\n",
       "        vertical-align: middle;\n",
       "    }\n",
       "\n",
       "    .dataframe tbody tr th {\n",
       "        vertical-align: top;\n",
       "    }\n",
       "\n",
       "    .dataframe thead th {\n",
       "        text-align: right;\n",
       "    }\n",
       "</style>\n",
       "<table border=\"1\" class=\"dataframe\">\n",
       "  <thead>\n",
       "    <tr style=\"text-align: right;\">\n",
       "      <th></th>\n",
       "      <th>Age</th>\n",
       "      <th>SystolicBP</th>\n",
       "      <th>DiastolicBP</th>\n",
       "      <th>BS</th>\n",
       "      <th>BodyTemp</th>\n",
       "      <th>HeartRate</th>\n",
       "      <th>RiskLevel</th>\n",
       "    </tr>\n",
       "  </thead>\n",
       "  <tbody>\n",
       "  </tbody>\n",
       "</table>\n",
       "</div>"
      ],
      "text/plain": [
       "Empty DataFrame\n",
       "Columns: [Age, SystolicBP, DiastolicBP, BS, BodyTemp, HeartRate, RiskLevel]\n",
       "Index: []"
      ]
     },
     "execution_count": 15,
     "metadata": {},
     "output_type": "execute_result"
    }
   ],
   "source": [
    "# quality check\n",
    "df[df['HeartRate'] < 26]"
   ]
  },
  {
   "cell_type": "markdown",
   "id": "e2d3e704",
   "metadata": {},
   "source": [
    "### Univariate Data Analysis\n",
    "I will further analyse the data by looking at the distribution of each variable including the target variable (SystolicBP)."
   ]
  },
  {
   "cell_type": "code",
   "execution_count": 16,
   "id": "187f97a1",
   "metadata": {},
   "outputs": [],
   "source": [
    "# plotting histograms of all the numerical variables\n",
    "\n",
    "def plot_histograms(data):\n",
    "    \"\"\"Function to plot histograms\n",
    "    Args:\n",
    "        data: the selected data for the plots\n",
    "    \"\"\"\n",
    "    plt.figure(figsize = (14, 8)) # setting the plot size\n",
    "\n",
    "    for i, variable in enumerate(data): # looping through the variables in the numerical dataframe\n",
    "        plt.subplot(2, 3, i+1) # setting the layout rows and columns\n",
    "        ax = sns.histplot(x = data[variable], data = data) # plotting the histograms\n",
    "        plt.title(f'{variable} Distribution') # setting the title of the histograms\n",
    "        plt.tight_layout() # creating adequate spacing between the plots"
   ]
  },
  {
   "cell_type": "code",
   "execution_count": 17,
   "id": "1552d141",
   "metadata": {},
   "outputs": [],
   "source": [
    "# separating the numerical variables from the dataset using the updated cleaned data\n",
    "num_df2 = df.select_dtypes(include='number') # creating a dataframe of only numerical variables"
   ]
  },
  {
   "cell_type": "code",
   "execution_count": 18,
   "id": "2d5f152e",
   "metadata": {},
   "outputs": [
    {
     "data": {
      "image/png": "[encoded data removed]",
      "text/plain": [
       "<Figure size 1400x800 with 6 Axes>"
      ]
     },
     "metadata": {},
     "output_type": "display_data"
    }
   ],
   "source": [
    "# applying the function on the updated numerical dataset (num_df2)\n",
    "plot_histograms(num_df2)"
   ]
  },
  {
   "cell_type": "markdown",
   "id": "39252c40",
   "metadata": {},
   "source": [
    "- The Age distribution is right-skewed. Most women are younger than 40 years old  \n",
    "- The SystolicBP distribution is slightly normally distributed. Systolic BP is mostly between 100 - 120 \n",
    "- The DiastolicBP distribution is slightly normally distributed. Diastolic BP is mostly between 65 - 90  \n",
    "- The BS distribution is right-skewed. Blood Sugar is mostly between 6.0 - 8.0  \n",
    "- The BodyTemp distribution is right-skewed. Body Temperature is mostly 98.0  \n",
    "- The Heart Rate distribution is slightly normally distributed. HeartRate is mostly between 70 - 80"
   ]
  },
  {
   "cell_type": "markdown",
   "id": "56e55863",
   "metadata": {},
   "source": [
    "#### Risk Level"
   ]
  },
  {
   "cell_type": "code",
   "execution_count": 19,
   "id": "34e1928b",
   "metadata": {},
   "outputs": [],
   "source": [
    "# plotting the RiskLevel distribution\n",
    "\n",
    "def plot_annotated_countplot(data, var):\n",
    "    \"\"\"Function to plot an annotated countplot\n",
    "    Args:\n",
    "        data: the selected data for the plot\n",
    "        var: required variable\n",
    "    \"\"\"\n",
    "    \n",
    "    # setting the plot size\n",
    "    plt.figure(figsize = (8, 6)) \n",
    "\n",
    "    # plotting the countplot\n",
    "    plot = sns.countplot(data=data, x = var) \n",
    "\n",
    "    # specifying the data length\n",
    "    data_length = len(data[var])\n",
    "\n",
    "    # creating percentage labels for the bars\n",
    "    for p in plot.patches: # iterating over each bar in the countplot\n",
    "        percentage = '{:.2f}%'.format(100 * p.get_height() / data_length) # computing the percentages\n",
    "\n",
    "        # computes the location the percentage labels will be placed\n",
    "        x = p.get_x() + p.get_width() / 2 - 0.05 \n",
    "        y = p.get_y() + p.get_height()\n",
    "\n",
    "        # adding the percentage labels\n",
    "        plot.annotate(percentage, (x, y), ha='center', size=12, xytext=(0, 5), textcoords='offset points') \n",
    "\n",
    "    plt.title(f'{var} Distribution') # setting the plot title\n",
    "    plt.show() # displaying the plot"
   ]
  },
  {
   "cell_type": "code",
   "execution_count": 20,
   "id": "02985c21",
   "metadata": {},
   "outputs": [
    {
     "data": {
      "image/png": "[encoded data removed]",
      "text/plain": [
       "<Figure size 800x600 with 1 Axes>"
      ]
     },
     "metadata": {},
     "output_type": "display_data"
    }
   ],
   "source": [
    "# applying the function on the required variable\n",
    "plot_annotated_countplot(df, 'RiskLevel')"
   ]
  },
  {
   "cell_type": "markdown",
   "id": "436ff060",
   "metadata": {},
   "source": [
    "- `26.88%` of the women have a high risk level rating\n",
    "- `39.92%` of the women have a low risk level rating\n",
    "- `33.20%` of the women have a mid risk level rating"
   ]
  },
  {
   "cell_type": "markdown",
   "id": "ce506dab",
   "metadata": {},
   "source": [
    "### Bivariate Data Analysis\n",
    "\n",
    "This is necessary to help identify the relationship between the independent variables and the target variable.  \n",
    "\n",
    "It is also necessary to identify multicolinearity between independent variables."
   ]
  },
  {
   "cell_type": "markdown",
   "id": "3c011e5b",
   "metadata": {},
   "source": [
    "#### RiskLevel against HeartRate"
   ]
  },
  {
   "cell_type": "code",
   "execution_count": 21,
   "id": "33bb17d8",
   "metadata": {},
   "outputs": [],
   "source": [
    "def bivariate_plot(data, var_x, var_y, plot_type = sns.scatterplot, color = None, figsize = (8, 6)):\n",
    "    \"\"\"Function to plot a bivariate plot\n",
    "    Args:\n",
    "        data: the selected data for the plot\n",
    "        var_x: variable for the x_axis\n",
    "        var_y: variable for the y_axis\n",
    "        plot_type: the type of bivariate plot\n",
    "        color: the colour of the plot\n",
    "        figsize: the size of the figure\n",
    "    \"\"\"\n",
    "    \n",
    "    plt.figure(figsize=figsize) # setting the figure size\n",
    "    plot_type(x=var_x, y=var_y, data=data, color=color) # specifying the plot type, variables and data\n",
    "    plt.title(f'{var_y} against {var_x}') # setting the plot title\n",
    "    plt.show() # displaying the plot"
   ]
  },
  {
   "cell_type": "code",
   "execution_count": 22,
   "id": "e4e8ece5",
   "metadata": {},
   "outputs": [
    {
     "data": {
      "image/png": "[encoded data removed]",
      "text/plain": [
       "<Figure size 800x600 with 1 Axes>"
      ]
     },
     "metadata": {},
     "output_type": "display_data"
    }
   ],
   "source": [
    "# applying the function on the required variables\n",
    "bivariate_plot(df, 'SystolicBP', 'RiskLevel', sns.boxplot)"
   ]
  },
  {
   "cell_type": "markdown",
   "id": "83ccb3ba",
   "metadata": {},
   "source": [
    "From the boxplots above, we can observe the following:\n",
    "\n",
    "- Women at high risk have their systolic BP mostly between 120 - 140, with majority of women having a SystolicBP of 140\n",
    "- Women at mid risk have their systolic BP mostly between 100 - 120, with majority of women having a SystolicBP of 120\n",
    "- Women at low risk have their systolic BP mostly between 90 - 120, with majority of women having a SystolicBP of 120"
   ]
  },
  {
   "cell_type": "markdown",
   "id": "d0f76fa0",
   "metadata": {},
   "source": [
    "### Using the get_dummies( ) method to convert Risk Level values to numerical values\n",
    "\n",
    "A model cannot be built using non-numerical variables. I would be using the get_dummies method to encode the categorical variables."
   ]
  },
  {
   "cell_type": "code",
   "execution_count": 23,
   "id": "625a17c9",
   "metadata": {},
   "outputs": [],
   "source": [
    "# encoding the categorical variables\n",
    "df = pd.get_dummies(df)"
   ]
  },
  {
   "cell_type": "code",
   "execution_count": 24,
   "id": "9d83afdd",
   "metadata": {},
   "outputs": [
    {
     "data": {
      "text/plain": [
       "Index(['Age', 'SystolicBP', 'DiastolicBP', 'BS', 'BodyTemp', 'HeartRate',\n",
       "       'RiskLevel_high risk', 'RiskLevel_low risk', 'RiskLevel_mid risk'],\n",
       "      dtype='object')"
      ]
     },
     "execution_count": 24,
     "metadata": {},
     "output_type": "execute_result"
    }
   ],
   "source": [
    "# quality check\n",
    "df.columns"
   ]
  },
  {
   "cell_type": "markdown",
   "id": "09539862",
   "metadata": {},
   "source": [
    "#### Heatmap\n",
    "\n",
    "The heatmap shows the correlation between variables in the dataset. This helps us identify which variables have a linear relationship with the target variable and should be used to build the model."
   ]
  },
  {
   "cell_type": "code",
   "execution_count": 25,
   "id": "4b79d43d",
   "metadata": {
    "scrolled": false
   },
   "outputs": [],
   "source": [
    "# plotting a heatmap using all the variables in the dataset\n",
    "\n",
    "def plot_heatmap(data, fig_title):\n",
    "    \"\"\"Function to plot a heatmap\n",
    "    Args:\n",
    "        data: the selected data for the plot\n",
    "        fig_title: the title for the heatmap\n",
    "    \"\"\"\n",
    "    plt.figure(figsize = (8, 6)) # setting the figure size\n",
    "    sns.heatmap(data.corr(), vmax=1, vmin=-1, annot=True) # plotting the heatmap\n",
    "    plt.title(fig_title) # setting the plot title\n",
    "    plt.show() # displaying the plot"
   ]
  },
  {
   "cell_type": "code",
   "execution_count": 26,
   "id": "91be6d22",
   "metadata": {},
   "outputs": [
    {
     "data": {
      "image/png": "[encoded data removed]",
      "text/plain": [
       "<Figure size 800x600 with 2 Axes>"
      ]
     },
     "metadata": {},
     "output_type": "display_data"
    }
   ],
   "source": [
    "# applying the function on the required data\n",
    "plot_heatmap(df, 'Heat Map')"
   ]
  },
  {
   "cell_type": "markdown",
   "id": "7bf1b6a2",
   "metadata": {},
   "source": [
    "The following can be observed from the heatmap above:\n",
    "- DiastolicBP has a high positive correlation with the target variable (SystolicBP). This means that as DiastolicBP increases, SystolicBP also increases\n",
    "- Age, Blood Sugar have a moderate positive correlation with SystolicBP\n",
    "- Body Temp and RiskLevel_low risk both have a low negative correlation with SystolicBP. \n",
    "- RiskLevel_high risk has a low positive correlation with SystolicBP. \n",
    "- HeartRate and RiskLevel_mid risk both have very minimal negative correlation with SystolicBP\n",
    "\n",
    "There is no milticolinearity among independent variables as none of them have a very strong correlation with each other. However, it is observed that Blood Sugar and RiskLevel_high risk have a moderate positive correlation. This means that as Blood Sugar increases, the risk of a pregnant woman developing high blood pressure also increases."
   ]
  },
  {
   "cell_type": "markdown",
   "id": "390ed2e0",
   "metadata": {},
   "source": [
    "# Task 1\n",
    "\n",
    "**Build and fit a linear model, assuming that the response variable is Systolic BP, and the exploratory variable(s) of your choice.**"
   ]
  },
  {
   "cell_type": "markdown",
   "id": "143352f0",
   "metadata": {},
   "source": [
    "### Feature Selection \n",
    "\n",
    "I will be selecting the best features to build the model. "
   ]
  },
  {
   "cell_type": "markdown",
   "id": "373a4b32",
   "metadata": {},
   "source": [
    "From the heatmap, `HeartRate` and `RiskLevel_mid risk` were the only variables that had no correlation with the target variable. If I were to select features based on the information gotten from the heatmap, I would be dropping these variables (HeartRate and RiskLevel_mid risk) before building the model."
   ]
  },
  {
   "cell_type": "markdown",
   "id": "565c9131",
   "metadata": {},
   "source": [
    "#### K-best Algorithm\n",
    "\n",
    "The K-best algorithm is another feature selection method.\n",
    "I would be using this to corroborate the information I got from the heatmap before selecting the features."
   ]
  },
  {
   "cell_type": "code",
   "execution_count": 27,
   "id": "10f8c4f6",
   "metadata": {},
   "outputs": [],
   "source": [
    "# importing the KBest algorithm and the f_regression scoring function\n",
    "from sklearn.feature_selection import SelectKBest, f_regression\n",
    "\n",
    "# creating a function to compute the K_best scores and plot them\n",
    "def plot_kbest_scores(data, target_variable):\n",
    "    \"\"\"Function to compute and plot the k_best features\n",
    "    Args:\n",
    "        data: the selected data for the computations and plot\n",
    "        target_variable: the target variable in the data \n",
    "    \"\"\"\n",
    "    \n",
    "    # Splitting the data into training and testing\n",
    "    X = data.drop(target_variable, axis=1) # independent variables\n",
    "    y = data[target_variable] # target variable\n",
    "    \n",
    "    # Rank the features using SelectKBest and f_regression\n",
    "    kbest_feat = SelectKBest(f_regression, k='all') # declaring an instance of the kbest algorithm\n",
    "    X_kbest = kbest_feat.fit_transform(X, y) # fitting the algorithm to the target and independent variables\n",
    "    kbest_scores = X.columns[kbest_feat.get_support()] # computing the kbest scores\n",
    "    \n",
    "    # Plotting a graph of the scores against the features\n",
    "    plt.figure(figsize=(8,6)) # setting the figure size\n",
    "    plt.bar(range(len(kbest_scores)), kbest_feat.scores_[kbest_feat.get_support()]) # plotting the bar chart\n",
    "    plt.xticks(range(len(kbest_scores)), kbest_scores, rotation='vertical') # rotating the x_label to 90 degrees\n",
    "    plt.xlabel('Features') # setting the xlabel\n",
    "    plt.ylabel('Score') # setting the ylabel\n",
    "    plt.title('Best Features') # setting the title\n",
    "    plt.show() # displaying the plot"
   ]
  },
  {
   "cell_type": "code",
   "execution_count": 28,
   "id": "634a83e5",
   "metadata": {},
   "outputs": [
    {
     "data": {
      "image/png": "[encoded data removed]",
      "text/plain": [
       "<Figure size 800x600 with 1 Axes>"
      ]
     },
     "metadata": {},
     "output_type": "display_data"
    }
   ],
   "source": [
    "# applying the function on the required data\n",
    "plot_kbest_scores(df, 'SystolicBP')"
   ]
  },
  {
   "cell_type": "markdown",
   "id": "ad8e598e",
   "metadata": {},
   "source": [
    "From the bar chart above, `HeartRate` and `RiskLevel_mid risk` have the lowest scores. This corroborates what was computed on the heatmap."
   ]
  },
  {
   "cell_type": "markdown",
   "id": "90a7c20e",
   "metadata": {},
   "source": [
    "### Building the model"
   ]
  },
  {
   "cell_type": "markdown",
   "id": "1a0afb90",
   "metadata": {},
   "source": [
    "#### Selecting the training features and the target"
   ]
  },
  {
   "cell_type": "code",
   "execution_count": 29,
   "id": "0a743d39",
   "metadata": {},
   "outputs": [],
   "source": [
    "# we drop the target variable, and the variables that have no correlation with the target\n",
    "X = df.drop(['SystolicBP', 'HeartRate', 'RiskLevel_mid risk'], axis = 1) # training data\n",
    "y = df['SystolicBP'] # target data"
   ]
  },
  {
   "cell_type": "code",
   "execution_count": 30,
   "id": "5586d621",
   "metadata": {},
   "outputs": [
    {
     "data": {
      "text/plain": [
       "Index(['Age', 'DiastolicBP', 'BS', 'BodyTemp', 'RiskLevel_high risk',\n",
       "       'RiskLevel_low risk'],\n",
       "      dtype='object')"
      ]
     },
     "execution_count": 30,
     "metadata": {},
     "output_type": "execute_result"
    }
   ],
   "source": [
    "# quality check\n",
    "X.columns"
   ]
  },
  {
   "cell_type": "markdown",
   "id": "94eb83aa",
   "metadata": {},
   "source": [
    "#### Splitting the data \n",
    "\n",
    "The data would be split into train and test only because it does not have a lot of rows. Splitting the data is important to prevent information leakage. We do not want to expose the model to all the data.  \n",
    "\n",
    "This is important to help validate the performance of the model and how well it would generalise to new data similar to the one used to train it.\n",
    "\n",
    "The test size would be 20% of the data."
   ]
  },
  {
   "cell_type": "code",
   "execution_count": 31,
   "id": "b6f4ed74",
   "metadata": {},
   "outputs": [],
   "source": [
    "# splitting the data into train and test sets. We will use 80% to train and 20% to test\n",
    "x_train, x_test, y_train, y_test = train_test_split(X, y, random_state=0, test_size=0.2)"
   ]
  },
  {
   "cell_type": "markdown",
   "id": "067acbcf",
   "metadata": {},
   "source": [
    "#### Normalizing the data\n",
    "\n",
    "This involves scaling the data to ensure values fall within the same range. I would be using the StandardScaler algorithm to achieve this."
   ]
  },
  {
   "cell_type": "code",
   "execution_count": 32,
   "id": "e2d560a5",
   "metadata": {},
   "outputs": [],
   "source": [
    "scaler = StandardScaler() # declaring an instance of the scaler\n",
    "\n",
    "x_train_sc = scaler.fit_transform(x_train) # scaling the train data\n",
    "\n",
    "x_test_sc = scaler.transform(x_test) # scaling the test data"
   ]
  },
  {
   "cell_type": "markdown",
   "id": "a571a3cd",
   "metadata": {},
   "source": [
    "#### Fitting the model"
   ]
  },
  {
   "cell_type": "code",
   "execution_count": 33,
   "id": "0e8e5fb7",
   "metadata": {},
   "outputs": [],
   "source": [
    "lr = LinearRegression() # declaring an instance of the model"
   ]
  },
  {
   "cell_type": "code",
   "execution_count": 34,
   "id": "43c6e5ef",
   "metadata": {},
   "outputs": [],
   "source": [
    "# function to train a model\n",
    "def train_model(model, X, y):\n",
    "    \"\"\"Function to train a model\n",
    "    Args: \n",
    "        model: an instance of the linear regression model\n",
    "        X: the scaled training data\n",
    "        y: the target data\n",
    "    Returns:\n",
    "        trained model: the trained model\n",
    "    \"\"\"\n",
    "    trained_model = model.fit(X, y) # train the model\n",
    "    return trained_model # returning the trained model"
   ]
  },
  {
   "cell_type": "code",
   "execution_count": 35,
   "id": "61cdb57f",
   "metadata": {},
   "outputs": [],
   "source": [
    "# training the model\n",
    "lr_model = train_model(lr, x_train_sc, y_train)"
   ]
  },
  {
   "cell_type": "markdown",
   "id": "df7596be",
   "metadata": {},
   "source": [
    "#### Checking the coefficients of the model\n",
    "\n",
    "These are the values the model attaches to each of the independent variables which it learns.  \n",
    "\n",
    "These values correspond to each independent variable and they are the contributions of each variable to the target variable.  "
   ]
  },
  {
   "cell_type": "code",
   "execution_count": 36,
   "id": "9898308e",
   "metadata": {},
   "outputs": [
    {
     "data": {
      "text/plain": [
       "array([ 1.5728046 , 12.36417245,  0.60995975, -1.78219036, -0.47082618,\n",
       "       -3.09633505])"
      ]
     },
     "execution_count": 36,
     "metadata": {},
     "output_type": "execute_result"
    }
   ],
   "source": [
    "# computing the coefficients\n",
    "model_coefficients = lr_model.coef_ # calling the coefficient attribute\n",
    "model_coefficients"
   ]
  },
  {
   "cell_type": "code",
   "execution_count": 37,
   "id": "8064acf3",
   "metadata": {},
   "outputs": [
    {
     "data": {
      "text/html": [
       "<div>\n",
       "<style scoped>\n",
       "    .dataframe tbody tr th:only-of-type {\n",
       "        vertical-align: middle;\n",
       "    }\n",
       "\n",
       "    .dataframe tbody tr th {\n",
       "        vertical-align: top;\n",
       "    }\n",
       "\n",
       "    .dataframe thead th {\n",
       "        text-align: right;\n",
       "    }\n",
       "</style>\n",
       "<table border=\"1\" class=\"dataframe\">\n",
       "  <thead>\n",
       "    <tr style=\"text-align: right;\">\n",
       "      <th></th>\n",
       "      <th>Age</th>\n",
       "      <th>DiastolicBP</th>\n",
       "      <th>BS</th>\n",
       "      <th>BodyTemp</th>\n",
       "      <th>RiskLevel_high risk</th>\n",
       "      <th>RiskLevel_low risk</th>\n",
       "    </tr>\n",
       "  </thead>\n",
       "  <tbody>\n",
       "    <tr>\n",
       "      <th>0</th>\n",
       "      <td>1.572805</td>\n",
       "      <td>12.364172</td>\n",
       "      <td>0.60996</td>\n",
       "      <td>-1.78219</td>\n",
       "      <td>-0.470826</td>\n",
       "      <td>-3.096335</td>\n",
       "    </tr>\n",
       "  </tbody>\n",
       "</table>\n",
       "</div>"
      ],
      "text/plain": [
       "        Age  DiastolicBP       BS  BodyTemp  RiskLevel_high risk  \\\n",
       "0  1.572805    12.364172  0.60996  -1.78219            -0.470826   \n",
       "\n",
       "   RiskLevel_low risk  \n",
       "0           -3.096335  "
      ]
     },
     "execution_count": 37,
     "metadata": {},
     "output_type": "execute_result"
    }
   ],
   "source": [
    "# pairing each coefficient with its corresponding variable to create a dictionary of the values\n",
    "\n",
    "# looping through the train variables and the coefficients using a dictionary comprehension\n",
    "coeff_dict = {f\"{i}\":j for i,j in zip(X.columns, model_coefficients)}\n",
    "\n",
    "coeff_df = pd.DataFrame([coeff_dict]) # putting the values in a dataframe\n",
    "coeff_df"
   ]
  },
  {
   "cell_type": "markdown",
   "id": "b5bfeec4",
   "metadata": {},
   "source": [
    "The above can be interpreted as follows:\n",
    "\n",
    "- Using Blood Sugar as an example, we can say a one unit increase in Blood Sugar, assuming all other variables remain constant, the value of the SystolicBP would increase by 0.60996\n",
    "- For the Body Temperature which is a negative coefficient, we could say that a one unit increase in the Body Temperature, assuming all other variables remain constant, would result in the Systolic BP decreasing by 1.78219"
   ]
  },
  {
   "cell_type": "markdown",
   "id": "44aa0300",
   "metadata": {},
   "source": [
    "#### Computing the performance of the model "
   ]
  },
  {
   "cell_type": "code",
   "execution_count": 38,
   "id": "a7a5be79",
   "metadata": {},
   "outputs": [],
   "source": [
    "# function to compute adjusted R-squared\n",
    "\n",
    "def compute_adjusted_r2(ind_variables, target_vals, pred_vals):\n",
    "    \"\"\" Function to compute the adjusted r2 (adjusted coefficient of determination)\n",
    "    Args:\n",
    "        ind_variables: independent variables in the dataset\n",
    "        target_vals: the target values\n",
    "        pred_vals: the predicted values\n",
    "    Returns:\n",
    "        the value for the adjusted r2\n",
    "    \"\"\"\n",
    "    r2 = r2_score(target_vals, pred_vals) # computing the r2 (coefficient of determination)\n",
    "    rows_num = ind_variables.shape[0] # getting the number of rows in the data\n",
    "    col_num = ind_variables.shape[1] # getting the number of columns in the data\n",
    "    return 1 - ((1 - r2) * (rows_num - 1) / (rows_num - col_num - 1)) # computing the adjusted r2"
   ]
  },
  {
   "cell_type": "code",
   "execution_count": 39,
   "id": "ac975d4f",
   "metadata": {},
   "outputs": [],
   "source": [
    "# function to compute Mean Absolute Percentage Error\n",
    "\n",
    "def compute_mape(target_vals, pred_vals):\n",
    "    \"\"\" Function to compute the mean absolute percentage error\n",
    "    Args:\n",
    "        target_vals: the target values\n",
    "        pred_vals: the predicted values \n",
    "    Returns:\n",
    "        the value for the mean absolute percentage error\n",
    "    \"\"\"\n",
    "    return np.mean(np.abs(target_vals - pred_vals) / target_vals) * 100 # computing the mape"
   ]
  },
  {
   "cell_type": "code",
   "execution_count": 40,
   "id": "7a40dc12",
   "metadata": {},
   "outputs": [],
   "source": [
    "# function to compute all the metrics of the model\n",
    "\n",
    "def compute_model_metrics(trained_model, ind_variables, target_vals):\n",
    "    \"\"\"Function to compute the metrics of the model\n",
    "    Args:\n",
    "        trained_model: the trained linear regression model\n",
    "        ind_variables: independent variables in the dataset, the training or test data\n",
    "        target_vals: the target values\n",
    "    Returns:\n",
    "        df_metrics: a dataframe of all the computed metrics\n",
    "    \"\"\"\n",
    "    \n",
    "    pred = trained_model.predict(ind_variables) # making a prediction with the model\n",
    "    \n",
    "    mse = mean_squared_error(target_vals, pred) # computing the Mean Squared Error\n",
    "    rmse = np.sqrt(mean_squared_error(target_vals, pred))  # computing the Root Mean Squared Error\n",
    "    mae = mean_absolute_error(target_vals, pred)  # computing the Mean Absolute Error\n",
    "    mape = compute_mape(target_vals, pred)  # computing the Mean Absolute Percentage Error\n",
    "    r2 = r2_score(target_vals, pred)  # computing the r2 (coefficient of determination)\n",
    "    adjusted_r2 = compute_adjusted_r2(ind_variables, target_vals, pred)  # computing the adjusted R-squared\n",
    "    \n",
    "    metrics_list = [mse, rmse, mae, mape, r2, adjusted_r2] # putting all the metrics in a list\n",
    "    \n",
    "    # creating a list for the metric titles\n",
    "    metrics_titles = ['Mean_Squared_Error', 'Root_Mean_Squared_Error', 'Mean_Absolute_Error', \n",
    "                     'Mean_Absolute_Percentage_Error', 'R_squared', 'Adjusted_R_squared']\n",
    "    \n",
    "    # creating a dictionary to pair the metrics with their titles\n",
    "    metrics_dict = {title: metric for title,metric in zip(metrics_titles, metrics_list)}\n",
    "    \n",
    "    df_metrics = pd.DataFrame([metrics_dict]) # putting the values in a dataframe\n",
    "\n",
    "    return df_metrics # returns a dataframe of the metrics for easy viewing and interpretation"
   ]
  },
  {
   "cell_type": "markdown",
   "id": "adef6a14",
   "metadata": {},
   "source": [
    "#### Computing the model performance on the train and test data"
   ]
  },
  {
   "cell_type": "code",
   "execution_count": 41,
   "id": "58a195a6",
   "metadata": {},
   "outputs": [
    {
     "data": {
      "text/html": [
       "<div>\n",
       "<style scoped>\n",
       "    .dataframe tbody tr th:only-of-type {\n",
       "        vertical-align: middle;\n",
       "    }\n",
       "\n",
       "    .dataframe tbody tr th {\n",
       "        vertical-align: top;\n",
       "    }\n",
       "\n",
       "    .dataframe thead th {\n",
       "        text-align: right;\n",
       "    }\n",
       "</style>\n",
       "<table border=\"1\" class=\"dataframe\">\n",
       "  <thead>\n",
       "    <tr style=\"text-align: right;\">\n",
       "      <th></th>\n",
       "      <th>Mean_Squared_Error</th>\n",
       "      <th>Root_Mean_Squared_Error</th>\n",
       "      <th>Mean_Absolute_Error</th>\n",
       "      <th>Mean_Absolute_Percentage_Error</th>\n",
       "      <th>R_squared</th>\n",
       "      <th>Adjusted_R_squared</th>\n",
       "    </tr>\n",
       "  </thead>\n",
       "  <tbody>\n",
       "    <tr>\n",
       "      <th>0</th>\n",
       "      <td>113.842286</td>\n",
       "      <td>10.66969</td>\n",
       "      <td>8.514957</td>\n",
       "      <td>7.85008</td>\n",
       "      <td>0.655945</td>\n",
       "      <td>0.653371</td>\n",
       "    </tr>\n",
       "  </tbody>\n",
       "</table>\n",
       "</div>"
      ],
      "text/plain": [
       "   Mean_Squared_Error  Root_Mean_Squared_Error  Mean_Absolute_Error  \\\n",
       "0          113.842286                 10.66969             8.514957   \n",
       "\n",
       "   Mean_Absolute_Percentage_Error  R_squared  Adjusted_R_squared  \n",
       "0                         7.85008   0.655945            0.653371  "
      ]
     },
     "execution_count": 41,
     "metadata": {},
     "output_type": "execute_result"
    }
   ],
   "source": [
    "# model performance on training data\n",
    "train_metrics_df = compute_model_metrics(lr_model, x_train_sc, y_train) # computing the metrics on the training data\n",
    "train_metrics_df"
   ]
  },
  {
   "cell_type": "code",
   "execution_count": 42,
   "id": "f919c9c4",
   "metadata": {},
   "outputs": [
    {
     "data": {
      "text/html": [
       "<div>\n",
       "<style scoped>\n",
       "    .dataframe tbody tr th:only-of-type {\n",
       "        vertical-align: middle;\n",
       "    }\n",
       "\n",
       "    .dataframe tbody tr th {\n",
       "        vertical-align: top;\n",
       "    }\n",
       "\n",
       "    .dataframe thead th {\n",
       "        text-align: right;\n",
       "    }\n",
       "</style>\n",
       "<table border=\"1\" class=\"dataframe\">\n",
       "  <thead>\n",
       "    <tr style=\"text-align: right;\">\n",
       "      <th></th>\n",
       "      <th>Mean_Squared_Error</th>\n",
       "      <th>Root_Mean_Squared_Error</th>\n",
       "      <th>Mean_Absolute_Error</th>\n",
       "      <th>Mean_Absolute_Percentage_Error</th>\n",
       "      <th>R_squared</th>\n",
       "      <th>Adjusted_R_squared</th>\n",
       "    </tr>\n",
       "  </thead>\n",
       "  <tbody>\n",
       "    <tr>\n",
       "      <th>0</th>\n",
       "      <td>114.763793</td>\n",
       "      <td>10.712786</td>\n",
       "      <td>8.732645</td>\n",
       "      <td>7.957039</td>\n",
       "      <td>0.690586</td>\n",
       "      <td>0.681114</td>\n",
       "    </tr>\n",
       "  </tbody>\n",
       "</table>\n",
       "</div>"
      ],
      "text/plain": [
       "   Mean_Squared_Error  Root_Mean_Squared_Error  Mean_Absolute_Error  \\\n",
       "0          114.763793                10.712786             8.732645   \n",
       "\n",
       "   Mean_Absolute_Percentage_Error  R_squared  Adjusted_R_squared  \n",
       "0                        7.957039   0.690586            0.681114  "
      ]
     },
     "execution_count": 42,
     "metadata": {},
     "output_type": "execute_result"
    }
   ],
   "source": [
    "# model performance on test data\n",
    "test_metrics_df = compute_model_metrics(lr_model, x_test_sc, y_test) # computing the metrics on the test data\n",
    "test_metrics_df"
   ]
  },
  {
   "cell_type": "markdown",
   "id": "457f0287",
   "metadata": {},
   "source": [
    "- From the metrics above, we can say that the model generalises well as the performance metrics computed for the training data are in close range to that computed for the test data."
   ]
  },
  {
   "cell_type": "markdown",
   "id": "0bfc6a5c",
   "metadata": {},
   "source": [
    "### Forward Sequential Feature Selection\n",
    "\n",
    "This feature selection technique would help discover the important independent variables that actually contribute to the model."
   ]
  },
  {
   "cell_type": "code",
   "execution_count": 43,
   "id": "e42514d5",
   "metadata": {},
   "outputs": [],
   "source": [
    "# splitting the data into training and testing\n",
    "X2 = df.drop('SystolicBP', axis=1) # using all the independent variables\n",
    "y2 = df['SystolicBP'] # target variable"
   ]
  },
  {
   "cell_type": "code",
   "execution_count": 44,
   "id": "d32d72e0",
   "metadata": {},
   "outputs": [],
   "source": [
    "# splitting the data into train and test sets. We will use 80% to train and 20% to test\n",
    "x_train2, x_test2, y_train2, y_test2 = train_test_split(X2, y2, random_state=0, test_size=0.2)"
   ]
  },
  {
   "cell_type": "code",
   "execution_count": 45,
   "id": "e2b5689d",
   "metadata": {},
   "outputs": [],
   "source": [
    "scaler2 = StandardScaler() # declaring an instance of the scaler\n",
    "\n",
    "x_train_sc2 = scaler2.fit_transform(x_train2) # scaling the train data\n",
    "\n",
    "x_test_sc2 = scaler2.transform(x_test2) # scaling the test data"
   ]
  },
  {
   "cell_type": "code",
   "execution_count": 46,
   "id": "c43fac61",
   "metadata": {},
   "outputs": [
    {
     "name": "stdout",
     "output_type": "stream",
     "text": [
      "Requirement already satisfied: mlxtend in /Users/apple/opt/anaconda3/lib/python3.9/site-packages (0.21.0)\n",
      "Requirement already satisfied: setuptools in /Users/apple/opt/anaconda3/lib/python3.9/site-packages (from mlxtend) (65.6.3)\n",
      "Requirement already satisfied: joblib>=0.13.2 in /Users/apple/opt/anaconda3/lib/python3.9/site-packages (from mlxtend) (1.2.0)\n",
      "Requirement already satisfied: matplotlib>=3.0.0 in /Users/apple/opt/anaconda3/lib/python3.9/site-packages (from mlxtend) (3.7.1)\n",
      "Requirement already satisfied: numpy>=1.16.2 in /Users/apple/opt/anaconda3/lib/python3.9/site-packages (from mlxtend) (1.23.5)\n",
      "Requirement already satisfied: pandas>=0.24.2 in /Users/apple/opt/anaconda3/lib/python3.9/site-packages (from mlxtend) (1.5.3)\n",
      "Requirement already satisfied: scipy>=1.2.1 in /Users/apple/opt/anaconda3/lib/python3.9/site-packages (from mlxtend) (1.10.1)\n",
      "Requirement already satisfied: scikit-learn>=1.0.2 in /Users/apple/opt/anaconda3/lib/python3.9/site-packages (from mlxtend) (1.2.2)\n",
      "Requirement already satisfied: pillow>=6.2.0 in /Users/apple/opt/anaconda3/lib/python3.9/site-packages (from matplotlib>=3.0.0->mlxtend) (9.4.0)\n",
      "Requirement already satisfied: importlib-resources>=3.2.0 in /Users/apple/opt/anaconda3/lib/python3.9/site-packages (from matplotlib>=3.0.0->mlxtend) (5.10.0)\n",
      "Requirement already satisfied: contourpy>=1.0.1 in /Users/apple/opt/anaconda3/lib/python3.9/site-packages (from matplotlib>=3.0.0->mlxtend) (1.0.5)\n",
      "Requirement already satisfied: packaging>=20.0 in /Users/apple/opt/anaconda3/lib/python3.9/site-packages (from matplotlib>=3.0.0->mlxtend) (23.0)\n",
      "Requirement already satisfied: pyparsing>=2.3.1 in /Users/apple/opt/anaconda3/lib/python3.9/site-packages (from matplotlib>=3.0.0->mlxtend) (3.0.9)\n",
      "Requirement already satisfied: fonttools>=4.22.0 in /Users/apple/opt/anaconda3/lib/python3.9/site-packages (from matplotlib>=3.0.0->mlxtend) (4.25.0)\n",
      "Requirement already satisfied: kiwisolver>=1.0.1 in /Users/apple/opt/anaconda3/lib/python3.9/site-packages (from matplotlib>=3.0.0->mlxtend) (1.4.4)\n",
      "Requirement already satisfied: cycler>=0.10 in /Users/apple/opt/anaconda3/lib/python3.9/site-packages (from matplotlib>=3.0.0->mlxtend) (0.11.0)\n",
      "Requirement already satisfied: python-dateutil>=2.7 in /Users/apple/opt/anaconda3/lib/python3.9/site-packages (from matplotlib>=3.0.0->mlxtend) (2.8.2)\n",
      "Requirement already satisfied: pytz>=2020.1 in /Users/apple/opt/anaconda3/lib/python3.9/site-packages (from pandas>=0.24.2->mlxtend) (2022.7)\n",
      "Requirement already satisfied: threadpoolctl>=2.0.0 in /Users/apple/opt/anaconda3/lib/python3.9/site-packages (from scikit-learn>=1.0.2->mlxtend) (2.2.0)\n",
      "Requirement already satisfied: zipp>=3.1.0 in /Users/apple/opt/anaconda3/lib/python3.9/site-packages (from importlib-resources>=3.2.0->matplotlib>=3.0.0->mlxtend) (3.11.0)\n",
      "Requirement already satisfied: six>=1.5 in /Users/apple/opt/anaconda3/lib/python3.9/site-packages (from python-dateutil>=2.7->matplotlib>=3.0.0->mlxtend) (1.16.0)\n"
     ]
    }
   ],
   "source": [
    "# installing mlxtend\n",
    "!pip install mlxtend"
   ]
  },
  {
   "cell_type": "code",
   "execution_count": 47,
   "id": "886e5a99",
   "metadata": {},
   "outputs": [
    {
     "name": "stderr",
     "output_type": "stream",
     "text": [
      "[Parallel(n_jobs=-1)]: Using backend LokyBackend with 4 concurrent workers.\n",
      "[Parallel(n_jobs=-1)]: Done   6 out of   8 | elapsed:    6.0s remaining:    2.0s\n",
      "[Parallel(n_jobs=-1)]: Done   8 out of   8 | elapsed:    6.0s finished\n",
      "\n",
      "[2023-05-12 09:32:08] Features: 1/8 -- score: -8.998459656432729[Parallel(n_jobs=-1)]: Using backend LokyBackend with 4 concurrent workers.\n",
      "[Parallel(n_jobs=-1)]: Done   4 out of   7 | elapsed:    0.0s remaining:    0.0s\n",
      "[Parallel(n_jobs=-1)]: Done   7 out of   7 | elapsed:    0.1s finished\n",
      "\n",
      "[2023-05-12 09:32:08] Features: 2/8 -- score: -8.638104405615142[Parallel(n_jobs=-1)]: Using backend LokyBackend with 4 concurrent workers.\n",
      "[Parallel(n_jobs=-1)]: Done   3 out of   6 | elapsed:    0.0s remaining:    0.0s\n",
      "[Parallel(n_jobs=-1)]: Done   6 out of   6 | elapsed:    0.0s finished\n",
      "\n",
      "[2023-05-12 09:32:08] Features: 3/8 -- score: -8.440574014475091[Parallel(n_jobs=-1)]: Using backend LokyBackend with 4 concurrent workers.\n",
      "[Parallel(n_jobs=-1)]: Done   5 out of   5 | elapsed:    0.0s finished\n",
      "\n",
      "[2023-05-12 09:32:08] Features: 4/8 -- score: -8.45447405489266[Parallel(n_jobs=-1)]: Using backend LokyBackend with 4 concurrent workers.\n",
      "[Parallel(n_jobs=-1)]: Done   4 out of   4 | elapsed:    0.0s finished\n",
      "\n",
      "[2023-05-12 09:32:08] Features: 5/8 -- score: -8.479423612571654[Parallel(n_jobs=-1)]: Using backend LokyBackend with 4 concurrent workers.\n",
      "[Parallel(n_jobs=-1)]: Done   3 out of   3 | elapsed:    0.0s finished\n",
      "\n",
      "[2023-05-12 09:32:08] Features: 6/8 -- score: -8.478132317162622[Parallel(n_jobs=-1)]: Using backend LokyBackend with 4 concurrent workers.\n",
      "[Parallel(n_jobs=-1)]: Done   2 out of   2 | elapsed:    0.0s finished\n",
      "\n",
      "[2023-05-12 09:32:08] Features: 7/8 -- score: -8.519455170065658[Parallel(n_jobs=-1)]: Using backend LokyBackend with 4 concurrent workers.\n",
      "[Parallel(n_jobs=-1)]: Done   1 out of   1 | elapsed:    0.0s finished\n",
      "\n",
      "[2023-05-12 09:32:08] Features: 8/8 -- score: -8.610575061639485"
     ]
    },
    {
     "data": {
      "text/html": [
       "<style>#sk-container-id-1 {color: black;background-color: white;}#sk-container-id-1 pre{padding: 0;}#sk-container-id-1 div.sk-toggleable {background-color: white;}#sk-container-id-1 label.sk-toggleable__label {cursor: pointer;display: block;width: 100%;margin-bottom: 0;padding: 0.3em;box-sizing: border-box;text-align: center;}#sk-container-id-1 label.sk-toggleable__label-arrow:before {content: \"▸\";float: left;margin-right: 0.25em;color: #696969;}#sk-container-id-1 label.sk-toggleable__label-arrow:hover:before {color: black;}#sk-container-id-1 div.sk-estimator:hover label.sk-toggleable__label-arrow:before {color: black;}#sk-container-id-1 div.sk-toggleable__content {max-height: 0;max-width: 0;overflow: hidden;text-align: left;background-color: #f0f8ff;}#sk-container-id-1 div.sk-toggleable__content pre {margin: 0.2em;color: black;border-radius: 0.25em;background-color: #f0f8ff;}#sk-container-id-1 input.sk-toggleable__control:checked~div.sk-toggleable__content {max-height: 200px;max-width: 100%;overflow: auto;}#sk-container-id-1 input.sk-toggleable__control:checked~label.sk-toggleable__label-arrow:before {content: \"▾\";}#sk-container-id-1 div.sk-estimator input.sk-toggleable__control:checked~label.sk-toggleable__label {background-color: #d4ebff;}#sk-container-id-1 div.sk-label input.sk-toggleable__control:checked~label.sk-toggleable__label {background-color: #d4ebff;}#sk-container-id-1 input.sk-hidden--visually {border: 0;clip: rect(1px 1px 1px 1px);clip: rect(1px, 1px, 1px, 1px);height: 1px;margin: -1px;overflow: hidden;padding: 0;position: absolute;width: 1px;}#sk-container-id-1 div.sk-estimator {font-family: monospace;background-color: #f0f8ff;border: 1px dotted black;border-radius: 0.25em;box-sizing: border-box;margin-bottom: 0.5em;}#sk-container-id-1 div.sk-estimator:hover {background-color: #d4ebff;}#sk-container-id-1 div.sk-parallel-item::after {content: \"\";width: 100%;border-bottom: 1px solid gray;flex-grow: 1;}#sk-container-id-1 div.sk-label:hover label.sk-toggleable__label {background-color: #d4ebff;}#sk-container-id-1 div.sk-serial::before {content: \"\";position: absolute;border-left: 1px solid gray;box-sizing: border-box;top: 0;bottom: 0;left: 50%;z-index: 0;}#sk-container-id-1 div.sk-serial {display: flex;flex-direction: column;align-items: center;background-color: white;padding-right: 0.2em;padding-left: 0.2em;position: relative;}#sk-container-id-1 div.sk-item {position: relative;z-index: 1;}#sk-container-id-1 div.sk-parallel {display: flex;align-items: stretch;justify-content: center;background-color: white;position: relative;}#sk-container-id-1 div.sk-item::before, #sk-container-id-1 div.sk-parallel-item::before {content: \"\";position: absolute;border-left: 1px solid gray;box-sizing: border-box;top: 0;bottom: 0;left: 50%;z-index: -1;}#sk-container-id-1 div.sk-parallel-item {display: flex;flex-direction: column;z-index: 1;position: relative;background-color: white;}#sk-container-id-1 div.sk-parallel-item:first-child::after {align-self: flex-end;width: 50%;}#sk-container-id-1 div.sk-parallel-item:last-child::after {align-self: flex-start;width: 50%;}#sk-container-id-1 div.sk-parallel-item:only-child::after {width: 0;}#sk-container-id-1 div.sk-dashed-wrapped {border: 1px dashed gray;margin: 0 0.4em 0.5em 0.4em;box-sizing: border-box;padding-bottom: 0.4em;background-color: white;}#sk-container-id-1 div.sk-label label {font-family: monospace;font-weight: bold;display: inline-block;line-height: 1.2em;}#sk-container-id-1 div.sk-label-container {text-align: center;}#sk-container-id-1 div.sk-container {/* jupyter's `normalize.less` sets `[hidden] { display: none; }` but bootstrap.min.css set `[hidden] { display: none !important; }` so we also need the `!important` here to be able to override the default hidden behavior on the sphinx rendered scikit-learn.org. See: https://github.com/scikit-learn/scikit-learn/issues/21755 */display: inline-block !important;position: relative;}#sk-container-id-1 div.sk-text-repr-fallback {display: none;}</style><div id=\"sk-container-id-1\" class=\"sk-top-container\"><div class=\"sk-text-repr-fallback\"><pre>SequentialFeatureSelector(estimator=LinearRegression(), k_features=(8, 8),\n",
       "                          n_jobs=-1,\n",
       "                          scoring=make_scorer(mean_absolute_error, greater_is_better=False),\n",
       "                          verbose=2)</pre><b>In a Jupyter environment, please rerun this cell to show the HTML representation or trust the notebook. <br />On GitHub, the HTML representation is unable to render, please try loading this page with nbviewer.org.</b></div><div class=\"sk-container\" hidden><div class=\"sk-item sk-dashed-wrapped\"><div class=\"sk-label-container\"><div class=\"sk-label sk-toggleable\"><input class=\"sk-toggleable__control sk-hidden--visually\" id=\"sk-estimator-id-1\" type=\"checkbox\" ><label for=\"sk-estimator-id-1\" class=\"sk-toggleable__label sk-toggleable__label-arrow\">SequentialFeatureSelector</label><div class=\"sk-toggleable__content\"><pre>SequentialFeatureSelector(estimator=LinearRegression(), k_features=(8, 8),\n",
       "                          n_jobs=-1,\n",
       "                          scoring=make_scorer(mean_absolute_error, greater_is_better=False),\n",
       "                          verbose=2)</pre></div></div></div><div class=\"sk-parallel\"><div class=\"sk-parallel-item\"><div class=\"sk-item\"><div class=\"sk-label-container\"><div class=\"sk-label sk-toggleable\"><input class=\"sk-toggleable__control sk-hidden--visually\" id=\"sk-estimator-id-2\" type=\"checkbox\" ><label for=\"sk-estimator-id-2\" class=\"sk-toggleable__label sk-toggleable__label-arrow\">estimator: LinearRegression</label><div class=\"sk-toggleable__content\"><pre>LinearRegression()</pre></div></div></div><div class=\"sk-serial\"><div class=\"sk-item\"><div class=\"sk-estimator sk-toggleable\"><input class=\"sk-toggleable__control sk-hidden--visually\" id=\"sk-estimator-id-3\" type=\"checkbox\" ><label for=\"sk-estimator-id-3\" class=\"sk-toggleable__label sk-toggleable__label-arrow\">LinearRegression</label><div class=\"sk-toggleable__content\"><pre>LinearRegression()</pre></div></div></div></div></div></div></div></div></div></div>"
      ],
      "text/plain": [
       "SequentialFeatureSelector(estimator=LinearRegression(), k_features=(8, 8),\n",
       "                          n_jobs=-1,\n",
       "                          scoring=make_scorer(mean_absolute_error, greater_is_better=False),\n",
       "                          verbose=2)"
      ]
     },
     "execution_count": 47,
     "metadata": {},
     "output_type": "execute_result"
    }
   ],
   "source": [
    "# importing the necessary modules\n",
    "from mlxtend.feature_selection import SequentialFeatureSelector\n",
    "from sklearn.metrics import make_scorer\n",
    "\n",
    "# specifying Mean Absolute Error as the scoring metric\n",
    "# the greater_is_better parameter is set to False because we want a lower score for this error\n",
    "scorer = make_scorer(mean_absolute_error, greater_is_better=False) \n",
    "\n",
    "# creating an instance of the SequentialFeatureSelector class and setting the appropriate hyperparameters\n",
    "# x_train.shape[1] selects all the specified training features \n",
    "# we are performing the forward sequential feature selection\n",
    "forward_sfs = SequentialFeatureSelector(estimator=lr, k_features=x_train2.shape[1], scoring=scorer, \n",
    "                                        n_jobs=-1, verbose=2)\n",
    "\n",
    "# fitting the model\n",
    "forward_sfs.fit(x_train_sc2, y_train2)"
   ]
  },
  {
   "cell_type": "markdown",
   "id": "d7b123f2",
   "metadata": {},
   "source": [
    "#### Visualising the performance of the model"
   ]
  },
  {
   "cell_type": "code",
   "execution_count": 48,
   "id": "21c1bc00",
   "metadata": {},
   "outputs": [
    {
     "data": {
      "image/png": "[encoded data removed]",
      "text/plain": [
       "<Figure size 1000x600 with 1 Axes>"
      ]
     },
     "metadata": {},
     "output_type": "display_data"
    }
   ],
   "source": [
    "# importing the necessary module\n",
    "from mlxtend.plotting import plot_sequential_feature_selection as plt_sfs\n",
    "\n",
    "# plotting the standard error of the model\n",
    "std_err_plt = plt_sfs(forward_sfs.get_metric_dict(), kind=\"std_err\", figsize = (10, 6)) \n",
    "plt.xticks(rotation = 90) # rotating the x labels 90 degrees\n",
    "plt.show() # displaying the plot"
   ]
  },
  {
   "cell_type": "markdown",
   "id": "94559615",
   "metadata": {},
   "source": [
    "The y-axis shows the Mean Absolute Error values which reduces up the y-axis hence the negative values.  \n",
    "From the graph above, the Mean Absolute Error of the model stopped declining after the third feature."
   ]
  },
  {
   "cell_type": "markdown",
   "id": "63562974",
   "metadata": {},
   "source": [
    "#### Using the 3 features to rebuild the model"
   ]
  },
  {
   "cell_type": "code",
   "execution_count": 49,
   "id": "d075d32f",
   "metadata": {},
   "outputs": [
    {
     "name": "stderr",
     "output_type": "stream",
     "text": [
      "[Parallel(n_jobs=-1)]: Using backend LokyBackend with 4 concurrent workers.\n",
      "[Parallel(n_jobs=-1)]: Done   6 out of   8 | elapsed:    0.1s remaining:    0.0s\n",
      "[Parallel(n_jobs=-1)]: Done   8 out of   8 | elapsed:    0.1s finished\n",
      "\n",
      "[2023-05-12 09:32:08] Features: 1/3 -- score: 0.6077141725954647[Parallel(n_jobs=-1)]: Using backend LokyBackend with 4 concurrent workers.\n",
      "[Parallel(n_jobs=-1)]: Done   4 out of   7 | elapsed:    0.0s remaining:    0.0s\n",
      "[Parallel(n_jobs=-1)]: Done   7 out of   7 | elapsed:    0.1s finished\n",
      "\n",
      "[2023-05-12 09:32:08] Features: 2/3 -- score: 0.6302823583574065[Parallel(n_jobs=-1)]: Using backend LokyBackend with 4 concurrent workers.\n",
      "[Parallel(n_jobs=-1)]: Done   3 out of   6 | elapsed:    0.0s remaining:    0.0s\n",
      "[Parallel(n_jobs=-1)]: Done   6 out of   6 | elapsed:    0.0s finished\n",
      "\n",
      "[2023-05-12 09:32:08] Features: 3/3 -- score: 0.6424171905528797"
     ]
    },
    {
     "data": {
      "text/html": [
       "<style>#sk-container-id-2 {color: black;background-color: white;}#sk-container-id-2 pre{padding: 0;}#sk-container-id-2 div.sk-toggleable {background-color: white;}#sk-container-id-2 label.sk-toggleable__label {cursor: pointer;display: block;width: 100%;margin-bottom: 0;padding: 0.3em;box-sizing: border-box;text-align: center;}#sk-container-id-2 label.sk-toggleable__label-arrow:before {content: \"▸\";float: left;margin-right: 0.25em;color: #696969;}#sk-container-id-2 label.sk-toggleable__label-arrow:hover:before {color: black;}#sk-container-id-2 div.sk-estimator:hover label.sk-toggleable__label-arrow:before {color: black;}#sk-container-id-2 div.sk-toggleable__content {max-height: 0;max-width: 0;overflow: hidden;text-align: left;background-color: #f0f8ff;}#sk-container-id-2 div.sk-toggleable__content pre {margin: 0.2em;color: black;border-radius: 0.25em;background-color: #f0f8ff;}#sk-container-id-2 input.sk-toggleable__control:checked~div.sk-toggleable__content {max-height: 200px;max-width: 100%;overflow: auto;}#sk-container-id-2 input.sk-toggleable__control:checked~label.sk-toggleable__label-arrow:before {content: \"▾\";}#sk-container-id-2 div.sk-estimator input.sk-toggleable__control:checked~label.sk-toggleable__label {background-color: #d4ebff;}#sk-container-id-2 div.sk-label input.sk-toggleable__control:checked~label.sk-toggleable__label {background-color: #d4ebff;}#sk-container-id-2 input.sk-hidden--visually {border: 0;clip: rect(1px 1px 1px 1px);clip: rect(1px, 1px, 1px, 1px);height: 1px;margin: -1px;overflow: hidden;padding: 0;position: absolute;width: 1px;}#sk-container-id-2 div.sk-estimator {font-family: monospace;background-color: #f0f8ff;border: 1px dotted black;border-radius: 0.25em;box-sizing: border-box;margin-bottom: 0.5em;}#sk-container-id-2 div.sk-estimator:hover {background-color: #d4ebff;}#sk-container-id-2 div.sk-parallel-item::after {content: \"\";width: 100%;border-bottom: 1px solid gray;flex-grow: 1;}#sk-container-id-2 div.sk-label:hover label.sk-toggleable__label {background-color: #d4ebff;}#sk-container-id-2 div.sk-serial::before {content: \"\";position: absolute;border-left: 1px solid gray;box-sizing: border-box;top: 0;bottom: 0;left: 50%;z-index: 0;}#sk-container-id-2 div.sk-serial {display: flex;flex-direction: column;align-items: center;background-color: white;padding-right: 0.2em;padding-left: 0.2em;position: relative;}#sk-container-id-2 div.sk-item {position: relative;z-index: 1;}#sk-container-id-2 div.sk-parallel {display: flex;align-items: stretch;justify-content: center;background-color: white;position: relative;}#sk-container-id-2 div.sk-item::before, #sk-container-id-2 div.sk-parallel-item::before {content: \"\";position: absolute;border-left: 1px solid gray;box-sizing: border-box;top: 0;bottom: 0;left: 50%;z-index: -1;}#sk-container-id-2 div.sk-parallel-item {display: flex;flex-direction: column;z-index: 1;position: relative;background-color: white;}#sk-container-id-2 div.sk-parallel-item:first-child::after {align-self: flex-end;width: 50%;}#sk-container-id-2 div.sk-parallel-item:last-child::after {align-self: flex-start;width: 50%;}#sk-container-id-2 div.sk-parallel-item:only-child::after {width: 0;}#sk-container-id-2 div.sk-dashed-wrapped {border: 1px dashed gray;margin: 0 0.4em 0.5em 0.4em;box-sizing: border-box;padding-bottom: 0.4em;background-color: white;}#sk-container-id-2 div.sk-label label {font-family: monospace;font-weight: bold;display: inline-block;line-height: 1.2em;}#sk-container-id-2 div.sk-label-container {text-align: center;}#sk-container-id-2 div.sk-container {/* jupyter's `normalize.less` sets `[hidden] { display: none; }` but bootstrap.min.css set `[hidden] { display: none !important; }` so we also need the `!important` here to be able to override the default hidden behavior on the sphinx rendered scikit-learn.org. See: https://github.com/scikit-learn/scikit-learn/issues/21755 */display: inline-block !important;position: relative;}#sk-container-id-2 div.sk-text-repr-fallback {display: none;}</style><div id=\"sk-container-id-2\" class=\"sk-top-container\"><div class=\"sk-text-repr-fallback\"><pre>SequentialFeatureSelector(estimator=LinearRegression(), k_features=(3, 3),\n",
       "                          n_jobs=-1, scoring=&#x27;r2&#x27;, verbose=2)</pre><b>In a Jupyter environment, please rerun this cell to show the HTML representation or trust the notebook. <br />On GitHub, the HTML representation is unable to render, please try loading this page with nbviewer.org.</b></div><div class=\"sk-container\" hidden><div class=\"sk-item sk-dashed-wrapped\"><div class=\"sk-label-container\"><div class=\"sk-label sk-toggleable\"><input class=\"sk-toggleable__control sk-hidden--visually\" id=\"sk-estimator-id-4\" type=\"checkbox\" ><label for=\"sk-estimator-id-4\" class=\"sk-toggleable__label sk-toggleable__label-arrow\">SequentialFeatureSelector</label><div class=\"sk-toggleable__content\"><pre>SequentialFeatureSelector(estimator=LinearRegression(), k_features=(3, 3),\n",
       "                          n_jobs=-1, scoring=&#x27;r2&#x27;, verbose=2)</pre></div></div></div><div class=\"sk-parallel\"><div class=\"sk-parallel-item\"><div class=\"sk-item\"><div class=\"sk-label-container\"><div class=\"sk-label sk-toggleable\"><input class=\"sk-toggleable__control sk-hidden--visually\" id=\"sk-estimator-id-5\" type=\"checkbox\" ><label for=\"sk-estimator-id-5\" class=\"sk-toggleable__label sk-toggleable__label-arrow\">estimator: LinearRegression</label><div class=\"sk-toggleable__content\"><pre>LinearRegression()</pre></div></div></div><div class=\"sk-serial\"><div class=\"sk-item\"><div class=\"sk-estimator sk-toggleable\"><input class=\"sk-toggleable__control sk-hidden--visually\" id=\"sk-estimator-id-6\" type=\"checkbox\" ><label for=\"sk-estimator-id-6\" class=\"sk-toggleable__label sk-toggleable__label-arrow\">LinearRegression</label><div class=\"sk-toggleable__content\"><pre>LinearRegression()</pre></div></div></div></div></div></div></div></div></div></div>"
      ],
      "text/plain": [
       "SequentialFeatureSelector(estimator=LinearRegression(), k_features=(3, 3),\n",
       "                          n_jobs=-1, scoring='r2', verbose=2)"
      ]
     },
     "execution_count": 49,
     "metadata": {},
     "output_type": "execute_result"
    }
   ],
   "source": [
    "# creating an instance of the SequentialFeatureSelector class\n",
    "# setting the k_features hyperparameter to 3\n",
    "forward_sfs2 = SequentialFeatureSelector(estimator=lr, k_features=3, n_jobs=-1, verbose=2)\n",
    "\n",
    "# fitting the model\n",
    "forward_sfs2.fit(x_train_sc2, y_train2)"
   ]
  },
  {
   "cell_type": "markdown",
   "id": "89c903c5",
   "metadata": {},
   "source": [
    "#### Important Features"
   ]
  },
  {
   "cell_type": "code",
   "execution_count": 50,
   "id": "a178814c",
   "metadata": {},
   "outputs": [
    {
     "data": {
      "text/plain": [
       "(1, 3, 6)"
      ]
     },
     "execution_count": 50,
     "metadata": {},
     "output_type": "execute_result"
    }
   ],
   "source": [
    "# using the k_feature_indx_ attribute to get the index of the important features\n",
    "forward_sfs2.k_feature_idx_"
   ]
  },
  {
   "cell_type": "markdown",
   "id": "a7deb494",
   "metadata": {},
   "source": [
    "The important features are at the column indexes above in the dataframe.  \n",
    "\n",
    "In the code below, I would be using these indexes to get the corresponding columns."
   ]
  },
  {
   "cell_type": "code",
   "execution_count": 51,
   "id": "42ffcdf1",
   "metadata": {},
   "outputs": [
    {
     "data": {
      "text/plain": [
       "Index(['DiastolicBP', 'BodyTemp', 'RiskLevel_low risk'], dtype='object')"
      ]
     },
     "execution_count": 51,
     "metadata": {},
     "output_type": "execute_result"
    }
   ],
   "source": [
    "# converting the tupule of the important features' indexes to a list\n",
    "imp_feats = list(forward_sfs2.k_feature_idx_)\n",
    "\n",
    "# using the index of the important features to get the columns from the training data\n",
    "x_train2.columns[imp_feats]"
   ]
  },
  {
   "cell_type": "markdown",
   "id": "175a1069",
   "metadata": {},
   "source": [
    "- The important variables are `DiastolicBP`, `BodyTemp`, and `RiskLevel_low risk`"
   ]
  },
  {
   "cell_type": "code",
   "execution_count": 52,
   "id": "bd0eee73",
   "metadata": {},
   "outputs": [],
   "source": [
    "# getting the data of the important features from the training and test data\n",
    "x_train_imp = x_train2[x_train2.columns[imp_feats]] # getting the training data\n",
    "x_test_imp = x_test2[x_train2.columns[imp_feats]] # getting the test data\n",
    "\n",
    "# normalising the data\n",
    "scaler_imp = StandardScaler() # creating an instance of the StandardScaler class\n",
    "\n",
    "# scaling the training and test data\n",
    "x_train_imp_sc = scaler_imp.fit_transform(x_train_imp) # scaling the training data\n",
    "x_test_imp_sc = scaler_imp.transform(x_test_imp) # scaling the test data"
   ]
  },
  {
   "cell_type": "markdown",
   "id": "1490a271",
   "metadata": {},
   "source": [
    "#### Rebuilding the Linear Regression Model"
   ]
  },
  {
   "cell_type": "code",
   "execution_count": 53,
   "id": "10667352",
   "metadata": {},
   "outputs": [
    {
     "data": {
      "text/html": [
       "<style>#sk-container-id-3 {color: black;background-color: white;}#sk-container-id-3 pre{padding: 0;}#sk-container-id-3 div.sk-toggleable {background-color: white;}#sk-container-id-3 label.sk-toggleable__label {cursor: pointer;display: block;width: 100%;margin-bottom: 0;padding: 0.3em;box-sizing: border-box;text-align: center;}#sk-container-id-3 label.sk-toggleable__label-arrow:before {content: \"▸\";float: left;margin-right: 0.25em;color: #696969;}#sk-container-id-3 label.sk-toggleable__label-arrow:hover:before {color: black;}#sk-container-id-3 div.sk-estimator:hover label.sk-toggleable__label-arrow:before {color: black;}#sk-container-id-3 div.sk-toggleable__content {max-height: 0;max-width: 0;overflow: hidden;text-align: left;background-color: #f0f8ff;}#sk-container-id-3 div.sk-toggleable__content pre {margin: 0.2em;color: black;border-radius: 0.25em;background-color: #f0f8ff;}#sk-container-id-3 input.sk-toggleable__control:checked~div.sk-toggleable__content {max-height: 200px;max-width: 100%;overflow: auto;}#sk-container-id-3 input.sk-toggleable__control:checked~label.sk-toggleable__label-arrow:before {content: \"▾\";}#sk-container-id-3 div.sk-estimator input.sk-toggleable__control:checked~label.sk-toggleable__label {background-color: #d4ebff;}#sk-container-id-3 div.sk-label input.sk-toggleable__control:checked~label.sk-toggleable__label {background-color: #d4ebff;}#sk-container-id-3 input.sk-hidden--visually {border: 0;clip: rect(1px 1px 1px 1px);clip: rect(1px, 1px, 1px, 1px);height: 1px;margin: -1px;overflow: hidden;padding: 0;position: absolute;width: 1px;}#sk-container-id-3 div.sk-estimator {font-family: monospace;background-color: #f0f8ff;border: 1px dotted black;border-radius: 0.25em;box-sizing: border-box;margin-bottom: 0.5em;}#sk-container-id-3 div.sk-estimator:hover {background-color: #d4ebff;}#sk-container-id-3 div.sk-parallel-item::after {content: \"\";width: 100%;border-bottom: 1px solid gray;flex-grow: 1;}#sk-container-id-3 div.sk-label:hover label.sk-toggleable__label {background-color: #d4ebff;}#sk-container-id-3 div.sk-serial::before {content: \"\";position: absolute;border-left: 1px solid gray;box-sizing: border-box;top: 0;bottom: 0;left: 50%;z-index: 0;}#sk-container-id-3 div.sk-serial {display: flex;flex-direction: column;align-items: center;background-color: white;padding-right: 0.2em;padding-left: 0.2em;position: relative;}#sk-container-id-3 div.sk-item {position: relative;z-index: 1;}#sk-container-id-3 div.sk-parallel {display: flex;align-items: stretch;justify-content: center;background-color: white;position: relative;}#sk-container-id-3 div.sk-item::before, #sk-container-id-3 div.sk-parallel-item::before {content: \"\";position: absolute;border-left: 1px solid gray;box-sizing: border-box;top: 0;bottom: 0;left: 50%;z-index: -1;}#sk-container-id-3 div.sk-parallel-item {display: flex;flex-direction: column;z-index: 1;position: relative;background-color: white;}#sk-container-id-3 div.sk-parallel-item:first-child::after {align-self: flex-end;width: 50%;}#sk-container-id-3 div.sk-parallel-item:last-child::after {align-self: flex-start;width: 50%;}#sk-container-id-3 div.sk-parallel-item:only-child::after {width: 0;}#sk-container-id-3 div.sk-dashed-wrapped {border: 1px dashed gray;margin: 0 0.4em 0.5em 0.4em;box-sizing: border-box;padding-bottom: 0.4em;background-color: white;}#sk-container-id-3 div.sk-label label {font-family: monospace;font-weight: bold;display: inline-block;line-height: 1.2em;}#sk-container-id-3 div.sk-label-container {text-align: center;}#sk-container-id-3 div.sk-container {/* jupyter's `normalize.less` sets `[hidden] { display: none; }` but bootstrap.min.css set `[hidden] { display: none !important; }` so we also need the `!important` here to be able to override the default hidden behavior on the sphinx rendered scikit-learn.org. See: https://github.com/scikit-learn/scikit-learn/issues/21755 */display: inline-block !important;position: relative;}#sk-container-id-3 div.sk-text-repr-fallback {display: none;}</style><div id=\"sk-container-id-3\" class=\"sk-top-container\"><div class=\"sk-text-repr-fallback\"><pre>LinearRegression()</pre><b>In a Jupyter environment, please rerun this cell to show the HTML representation or trust the notebook. <br />On GitHub, the HTML representation is unable to render, please try loading this page with nbviewer.org.</b></div><div class=\"sk-container\" hidden><div class=\"sk-item\"><div class=\"sk-estimator sk-toggleable\"><input class=\"sk-toggleable__control sk-hidden--visually\" id=\"sk-estimator-id-7\" type=\"checkbox\" checked><label for=\"sk-estimator-id-7\" class=\"sk-toggleable__label sk-toggleable__label-arrow\">LinearRegression</label><div class=\"sk-toggleable__content\"><pre>LinearRegression()</pre></div></div></div></div></div>"
      ],
      "text/plain": [
       "LinearRegression()"
      ]
     },
     "execution_count": 53,
     "metadata": {},
     "output_type": "execute_result"
    }
   ],
   "source": [
    "# creating an instance of the model\n",
    "lr2 = LinearRegression()\n",
    "\n",
    "# training the model with the earlier defined function\n",
    "lr2_model = train_model(lr2, x_train_imp_sc, y_train2)\n",
    "lr2_model"
   ]
  },
  {
   "cell_type": "markdown",
   "id": "047b5c3f",
   "metadata": {},
   "source": [
    "#### Model Performance on Training and Test Data"
   ]
  },
  {
   "cell_type": "code",
   "execution_count": 54,
   "id": "15edc2a3",
   "metadata": {},
   "outputs": [
    {
     "data": {
      "text/html": [
       "<div>\n",
       "<style scoped>\n",
       "    .dataframe tbody tr th:only-of-type {\n",
       "        vertical-align: middle;\n",
       "    }\n",
       "\n",
       "    .dataframe tbody tr th {\n",
       "        vertical-align: top;\n",
       "    }\n",
       "\n",
       "    .dataframe thead th {\n",
       "        text-align: right;\n",
       "    }\n",
       "</style>\n",
       "<table border=\"1\" class=\"dataframe\">\n",
       "  <thead>\n",
       "    <tr style=\"text-align: right;\">\n",
       "      <th></th>\n",
       "      <th>Mean_Squared_Error</th>\n",
       "      <th>Root_Mean_Squared_Error</th>\n",
       "      <th>Mean_Absolute_Error</th>\n",
       "      <th>Mean_Absolute_Percentage_Error</th>\n",
       "      <th>R_squared</th>\n",
       "      <th>Adjusted_R_squared</th>\n",
       "    </tr>\n",
       "  </thead>\n",
       "  <tbody>\n",
       "    <tr>\n",
       "      <th>0</th>\n",
       "      <td>116.391554</td>\n",
       "      <td>10.788492</td>\n",
       "      <td>8.406166</td>\n",
       "      <td>7.761133</td>\n",
       "      <td>0.648241</td>\n",
       "      <td>0.64693</td>\n",
       "    </tr>\n",
       "  </tbody>\n",
       "</table>\n",
       "</div>"
      ],
      "text/plain": [
       "   Mean_Squared_Error  Root_Mean_Squared_Error  Mean_Absolute_Error  \\\n",
       "0          116.391554                10.788492             8.406166   \n",
       "\n",
       "   Mean_Absolute_Percentage_Error  R_squared  Adjusted_R_squared  \n",
       "0                        7.761133   0.648241             0.64693  "
      ]
     },
     "execution_count": 54,
     "metadata": {},
     "output_type": "execute_result"
    }
   ],
   "source": [
    "# checking the model performance on the training data\n",
    "compute_model_metrics(lr2_model, x_train_imp_sc, y_train2)"
   ]
  },
  {
   "cell_type": "code",
   "execution_count": 55,
   "id": "774938bc",
   "metadata": {},
   "outputs": [
    {
     "data": {
      "text/html": [
       "<div>\n",
       "<style scoped>\n",
       "    .dataframe tbody tr th:only-of-type {\n",
       "        vertical-align: middle;\n",
       "    }\n",
       "\n",
       "    .dataframe tbody tr th {\n",
       "        vertical-align: top;\n",
       "    }\n",
       "\n",
       "    .dataframe thead th {\n",
       "        text-align: right;\n",
       "    }\n",
       "</style>\n",
       "<table border=\"1\" class=\"dataframe\">\n",
       "  <thead>\n",
       "    <tr style=\"text-align: right;\">\n",
       "      <th></th>\n",
       "      <th>Mean_Squared_Error</th>\n",
       "      <th>Root_Mean_Squared_Error</th>\n",
       "      <th>Mean_Absolute_Error</th>\n",
       "      <th>Mean_Absolute_Percentage_Error</th>\n",
       "      <th>R_squared</th>\n",
       "      <th>Adjusted_R_squared</th>\n",
       "    </tr>\n",
       "  </thead>\n",
       "  <tbody>\n",
       "    <tr>\n",
       "      <th>0</th>\n",
       "      <td>114.239128</td>\n",
       "      <td>10.688271</td>\n",
       "      <td>8.5931</td>\n",
       "      <td>7.827049</td>\n",
       "      <td>0.692001</td>\n",
       "      <td>0.687357</td>\n",
       "    </tr>\n",
       "  </tbody>\n",
       "</table>\n",
       "</div>"
      ],
      "text/plain": [
       "   Mean_Squared_Error  Root_Mean_Squared_Error  Mean_Absolute_Error  \\\n",
       "0          114.239128                10.688271               8.5931   \n",
       "\n",
       "   Mean_Absolute_Percentage_Error  R_squared  Adjusted_R_squared  \n",
       "0                        7.827049   0.692001            0.687357  "
      ]
     },
     "execution_count": 55,
     "metadata": {},
     "output_type": "execute_result"
    }
   ],
   "source": [
    "# checking the model performance on the test data\n",
    "compute_model_metrics(lr2_model, x_test_imp_sc, y_test2)"
   ]
  },
  {
   "cell_type": "markdown",
   "id": "040b34bc",
   "metadata": {},
   "source": [
    "The performance of the model shows an improvement to that of the original model. This shows that these three (3) independent variables `('DiastolicBP', 'BodyTemp', 'RiskLevel_low risk')` are very important to the model and will provide a better performance."
   ]
  },
  {
   "cell_type": "markdown",
   "id": "346dc8f6",
   "metadata": {},
   "source": [
    "## Task 2\n",
    "\n",
    "**Apply the principal component analysis (PCA) to reduce number of variables**"
   ]
  },
  {
   "cell_type": "markdown",
   "id": "7b81872c",
   "metadata": {},
   "source": [
    "#### Importing the PCA algorithm"
   ]
  },
  {
   "cell_type": "code",
   "execution_count": 56,
   "id": "3fda1fe0",
   "metadata": {},
   "outputs": [],
   "source": [
    "# importing the PCA algorithm\n",
    "from sklearn.decomposition import PCA\n",
    "\n",
    "# specifying 3 principal components\n",
    "pca = PCA(n_components=3, random_state=0)"
   ]
  },
  {
   "cell_type": "markdown",
   "id": "e4bee562",
   "metadata": {},
   "source": [
    "#### Applying the PCA algorithm on the scaled data"
   ]
  },
  {
   "cell_type": "code",
   "execution_count": 57,
   "id": "0fd7d69a",
   "metadata": {},
   "outputs": [],
   "source": [
    "# transforming the data with the principal components\n",
    "x_train_pca = pca.fit_transform(x_train_sc2) # transforming the training data\n",
    "x_test_pca = pca.transform(x_test_sc2) # transforming the test data"
   ]
  },
  {
   "cell_type": "code",
   "execution_count": 58,
   "id": "6d66eb41",
   "metadata": {},
   "outputs": [
    {
     "name": "stdout",
     "output_type": "stream",
     "text": [
      "Original Data: (809, 8)\n",
      "PCA: (809, 3)\n"
     ]
    }
   ],
   "source": [
    "# check the shape of both the original data and the transformed one\n",
    "print(f\"Original Data: {x_train2.shape}\")\n",
    "print(f\"PCA: {x_train_pca.shape}\")"
   ]
  },
  {
   "cell_type": "markdown",
   "id": "bb2da50b",
   "metadata": {},
   "source": [
    "The original data has 8 columns. The transformed (PCA) data has been summarised to three columns."
   ]
  },
  {
   "cell_type": "markdown",
   "id": "76d56cbe",
   "metadata": {},
   "source": [
    "#### Obtaining the Principal Components"
   ]
  },
  {
   "cell_type": "code",
   "execution_count": 59,
   "id": "730caf65",
   "metadata": {},
   "outputs": [
    {
     "data": {
      "text/plain": [
       "array([[ 0.39883294,  0.39743732,  0.51581343, -0.06696346,  0.16454687,\n",
       "         0.49963044, -0.35588674, -0.09521894],\n",
       "       [-0.12009958, -0.14183445, -0.04926441,  0.35585466,  0.13088373,\n",
       "        -0.03955271, -0.60594659,  0.67121779],\n",
       "       [-0.2974785 , -0.3303126 ,  0.04651471,  0.58213556,  0.37577092,\n",
       "         0.37384419,  0.06644829, -0.41949501]])"
      ]
     },
     "execution_count": 59,
     "metadata": {},
     "output_type": "execute_result"
    }
   ],
   "source": [
    "# ontaining the principal components from the .components_ attribute\n",
    "pca.components_"
   ]
  },
  {
   "cell_type": "markdown",
   "id": "c41d9d31",
   "metadata": {},
   "source": [
    "- There are three Principal Components represented by each row of the array above, while each item in a row represents a variable in the original dataset.\n",
    "- To interprete the Principal Components, we have to perform a correlation between the original data (features) (x_train_sc) and the transformed data (principal component) for each of the components.\n",
    "- Ideally, the first principal component provides the most explained variance for the original data, followed by the second principal component and so on."
   ]
  },
  {
   "cell_type": "markdown",
   "id": "5db996ba",
   "metadata": {},
   "source": [
    "#### Computing correlation between the principal components and the original data"
   ]
  },
  {
   "cell_type": "code",
   "execution_count": 60,
   "id": "f1f12fd5",
   "metadata": {},
   "outputs": [
    {
     "data": {
      "text/plain": [
       "3"
      ]
     },
     "execution_count": 60,
     "metadata": {},
     "output_type": "execute_result"
    }
   ],
   "source": [
    "# number of principal components\n",
    "pca.n_components_"
   ]
  },
  {
   "cell_type": "markdown",
   "id": "016fc111",
   "metadata": {},
   "source": [
    "Using pearson correlation:\n",
    "- `feat[i]` gets the names of each column in the dataset \n",
    "- `np.corrcoef(x_train[feat[i]], x_train_pca[:, val])[1,0]` computes the correlation between the Principal Components and the original data. \n",
    "- `for i in range(len(feat))` means for i in the number of features in the original data which is 8\n",
    "- `for val in range(pca.n_components_)` means for value in range(3) because there are 3 principal components\n",
    "- `x_train[feat[i]]` gets the original data for each column\n",
    "- `x_train_pca[ :, val]` gets all the values in each component  \n",
    "\n",
    "In essence, we are finding the correlation between the original data and the principal components"
   ]
  },
  {
   "cell_type": "code",
   "execution_count": 61,
   "id": "cafc45e8",
   "metadata": {},
   "outputs": [
    {
     "data": {
      "text/html": [
       "<div>\n",
       "<style scoped>\n",
       "    .dataframe tbody tr th:only-of-type {\n",
       "        vertical-align: middle;\n",
       "    }\n",
       "\n",
       "    .dataframe tbody tr th {\n",
       "        vertical-align: top;\n",
       "    }\n",
       "\n",
       "    .dataframe thead th {\n",
       "        text-align: right;\n",
       "    }\n",
       "</style>\n",
       "<table border=\"1\" class=\"dataframe\">\n",
       "  <thead>\n",
       "    <tr style=\"text-align: right;\">\n",
       "      <th></th>\n",
       "      <th>Features</th>\n",
       "      <th>Principal_Comp_1</th>\n",
       "      <th>Principal_Comp_2</th>\n",
       "      <th>Principal_Comp_3</th>\n",
       "    </tr>\n",
       "  </thead>\n",
       "  <tbody>\n",
       "    <tr>\n",
       "      <th>0</th>\n",
       "      <td>Age</td>\n",
       "      <td>0.647456</td>\n",
       "      <td>-0.152907</td>\n",
       "      <td>-0.340317</td>\n",
       "    </tr>\n",
       "    <tr>\n",
       "      <th>1</th>\n",
       "      <td>DiastolicBP</td>\n",
       "      <td>0.645191</td>\n",
       "      <td>-0.180579</td>\n",
       "      <td>-0.377880</td>\n",
       "    </tr>\n",
       "    <tr>\n",
       "      <th>2</th>\n",
       "      <td>BS</td>\n",
       "      <td>0.837360</td>\n",
       "      <td>-0.062722</td>\n",
       "      <td>0.053213</td>\n",
       "    </tr>\n",
       "    <tr>\n",
       "      <th>3</th>\n",
       "      <td>BodyTemp</td>\n",
       "      <td>-0.108707</td>\n",
       "      <td>0.453064</td>\n",
       "      <td>0.665967</td>\n",
       "    </tr>\n",
       "    <tr>\n",
       "      <th>4</th>\n",
       "      <td>HeartRate</td>\n",
       "      <td>0.267122</td>\n",
       "      <td>0.166637</td>\n",
       "      <td>0.429884</td>\n",
       "    </tr>\n",
       "    <tr>\n",
       "      <th>5</th>\n",
       "      <td>RiskLevel_high risk</td>\n",
       "      <td>0.811089</td>\n",
       "      <td>-0.050357</td>\n",
       "      <td>0.427680</td>\n",
       "    </tr>\n",
       "    <tr>\n",
       "      <th>6</th>\n",
       "      <td>RiskLevel_low risk</td>\n",
       "      <td>-0.577738</td>\n",
       "      <td>-0.771473</td>\n",
       "      <td>0.076017</td>\n",
       "    </tr>\n",
       "    <tr>\n",
       "      <th>7</th>\n",
       "      <td>RiskLevel_mid risk</td>\n",
       "      <td>-0.154576</td>\n",
       "      <td>0.854575</td>\n",
       "      <td>-0.479905</td>\n",
       "    </tr>\n",
       "  </tbody>\n",
       "</table>\n",
       "</div>"
      ],
      "text/plain": [
       "              Features  Principal_Comp_1  Principal_Comp_2  Principal_Comp_3\n",
       "0                  Age          0.647456         -0.152907         -0.340317\n",
       "1          DiastolicBP          0.645191         -0.180579         -0.377880\n",
       "2                   BS          0.837360         -0.062722          0.053213\n",
       "3             BodyTemp         -0.108707          0.453064          0.665967\n",
       "4            HeartRate          0.267122          0.166637          0.429884\n",
       "5  RiskLevel_high risk          0.811089         -0.050357          0.427680\n",
       "6   RiskLevel_low risk         -0.577738         -0.771473          0.076017\n",
       "7   RiskLevel_mid risk         -0.154576          0.854575         -0.479905"
      ]
     },
     "execution_count": 61,
     "metadata": {},
     "output_type": "execute_result"
    }
   ],
   "source": [
    "# computing the correlation between the original features and the principal components\n",
    "\n",
    "feat = x_train2.columns # getting the column names from the original training data\n",
    "\n",
    "# computing the correlation of the features with the first, second and third principal components\n",
    "data = [(feat[i], *[np.corrcoef(x_train2[feat[i]], x_train_pca[:, val])[1,0] \n",
    "            for val in range(pca.n_components_)]) for i in range(len(feat))]\n",
    "\n",
    "# putting the values into a dataframe\n",
    "pd.DataFrame(data, columns=[\"Features\", \"Principal_Comp_1\", \"Principal_Comp_2\", \"Principal_Comp_3\"])"
   ]
  },
  {
   "cell_type": "markdown",
   "id": "e1f1a4ab",
   "metadata": {},
   "source": [
    "From the dataframe above, we can see that the `Age`, `DiastolicBP`, `Blood Sugar`, `RiskLevel_high risk` have the highest correlation with the first principal component and are all positively correlated."
   ]
  },
  {
   "cell_type": "markdown",
   "id": "94bd6c4b",
   "metadata": {},
   "source": [
    "#### Explained Variance Ratio\n",
    "- This refers to the percentage of the variation in the data explained by the principal components "
   ]
  },
  {
   "cell_type": "code",
   "execution_count": 62,
   "id": "8a732629",
   "metadata": {},
   "outputs": [
    {
     "data": {
      "text/plain": [
       "array([0.32941919, 0.20262042, 0.1635937 ])"
      ]
     },
     "execution_count": 62,
     "metadata": {},
     "output_type": "execute_result"
    }
   ],
   "source": [
    "# computing the explained variance ratio for the three principal components\n",
    "pca.explained_variance_ratio_"
   ]
  },
  {
   "cell_type": "markdown",
   "id": "480f6c9c",
   "metadata": {},
   "source": [
    "The first principal component explains 32.9% of the data, the second explains 20.3% and the third 16.36%."
   ]
  },
  {
   "cell_type": "code",
   "execution_count": 63,
   "id": "15aacc8b",
   "metadata": {},
   "outputs": [
    {
     "data": {
      "text/plain": [
       "0.6956333082721813"
      ]
     },
     "execution_count": 63,
     "metadata": {},
     "output_type": "execute_result"
    }
   ],
   "source": [
    "# getting the sum of the explained variance ratio\n",
    "pca.explained_variance_ratio_.sum()"
   ]
  },
  {
   "cell_type": "markdown",
   "id": "27f1d196",
   "metadata": {},
   "source": [
    "- This means that three principal components will explain `69.5%` of the information in the original data\n",
    "- PCA acts like a summary of the data and there is a trade off between this summarization and information lost\n",
    "- PCA helps to reduce the dimensionality of the data"
   ]
  },
  {
   "cell_type": "markdown",
   "id": "129b975c",
   "metadata": {},
   "source": [
    "#### Finding the optimal number of Principal Components\n",
    "\n",
    "This would be a balance between summarization (Number of Principal Components) and the Explained Variance Ratio (What percentage of the information in the data the Principal Components explain)."
   ]
  },
  {
   "cell_type": "code",
   "execution_count": 64,
   "id": "9928d80e",
   "metadata": {},
   "outputs": [],
   "source": [
    "# Finding the optimal number of principal components\n",
    "\n",
    "exp_var = [] # creating a list for the sum of the explained variance ratios\n",
    "number_of_components = [i for i in range(1, 9)] # creating a list for the number of components from 1 - 8\n",
    "\n",
    "for i in number_of_components: # looping through the values for the number of components\n",
    "    pca2 = PCA(n_components=i, random_state = 0) # instantiating the PCA\n",
    "    x_train_pca2 = pca2.fit_transform(x_train_sc2) # fitting the pca\n",
    "    exp = pca2.explained_variance_ratio_.sum() # computing the explained variance ratio\n",
    "    exp_var.append(exp) # appending the explained variance ratio to the exp_var list"
   ]
  },
  {
   "cell_type": "code",
   "execution_count": 65,
   "id": "8eeba8e0",
   "metadata": {},
   "outputs": [
    {
     "data": {
      "text/html": [
       "<div>\n",
       "<style scoped>\n",
       "    .dataframe tbody tr th:only-of-type {\n",
       "        vertical-align: middle;\n",
       "    }\n",
       "\n",
       "    .dataframe tbody tr th {\n",
       "        vertical-align: top;\n",
       "    }\n",
       "\n",
       "    .dataframe thead th {\n",
       "        text-align: right;\n",
       "    }\n",
       "</style>\n",
       "<table border=\"1\" class=\"dataframe\">\n",
       "  <thead>\n",
       "    <tr style=\"text-align: right;\">\n",
       "      <th></th>\n",
       "      <th>Number_of_Components</th>\n",
       "      <th>Explained_Variance_Ratio</th>\n",
       "    </tr>\n",
       "  </thead>\n",
       "  <tbody>\n",
       "    <tr>\n",
       "      <th>0</th>\n",
       "      <td>1</td>\n",
       "      <td>0.329419</td>\n",
       "    </tr>\n",
       "    <tr>\n",
       "      <th>1</th>\n",
       "      <td>2</td>\n",
       "      <td>0.532040</td>\n",
       "    </tr>\n",
       "    <tr>\n",
       "      <th>2</th>\n",
       "      <td>3</td>\n",
       "      <td>0.695633</td>\n",
       "    </tr>\n",
       "    <tr>\n",
       "      <th>3</th>\n",
       "      <td>4</td>\n",
       "      <td>0.810601</td>\n",
       "    </tr>\n",
       "    <tr>\n",
       "      <th>4</th>\n",
       "      <td>5</td>\n",
       "      <td>0.887879</td>\n",
       "    </tr>\n",
       "    <tr>\n",
       "      <th>5</th>\n",
       "      <td>6</td>\n",
       "      <td>0.953388</td>\n",
       "    </tr>\n",
       "    <tr>\n",
       "      <th>6</th>\n",
       "      <td>7</td>\n",
       "      <td>1.000000</td>\n",
       "    </tr>\n",
       "    <tr>\n",
       "      <th>7</th>\n",
       "      <td>8</td>\n",
       "      <td>1.000000</td>\n",
       "    </tr>\n",
       "  </tbody>\n",
       "</table>\n",
       "</div>"
      ],
      "text/plain": [
       "   Number_of_Components  Explained_Variance_Ratio\n",
       "0                     1                  0.329419\n",
       "1                     2                  0.532040\n",
       "2                     3                  0.695633\n",
       "3                     4                  0.810601\n",
       "4                     5                  0.887879\n",
       "5                     6                  0.953388\n",
       "6                     7                  1.000000\n",
       "7                     8                  1.000000"
      ]
     },
     "execution_count": 65,
     "metadata": {},
     "output_type": "execute_result"
    }
   ],
   "source": [
    "# putting the values in a pandas dataframe\n",
    "exp_var_df = pd.DataFrame({'Number_of_Components': number_of_components, 'Explained_Variance_Ratio': exp_var})\n",
    "exp_var_df"
   ]
  },
  {
   "cell_type": "markdown",
   "id": "15b28517",
   "metadata": {},
   "source": [
    "- The dataframe above shows the sumed values for the number of principal components"
   ]
  },
  {
   "cell_type": "code",
   "execution_count": 66,
   "id": "e3017d8c",
   "metadata": {},
   "outputs": [
    {
     "data": {
      "image/png": "[encoded data removed]",
      "text/plain": [
       "<Figure size 800x500 with 1 Axes>"
      ]
     },
     "metadata": {},
     "output_type": "display_data"
    }
   ],
   "source": [
    "# plotting a graph of the number of components and the sum of explained variance ratio\n",
    "plt.figure(figsize = (8, 5)) # setting the figure size\n",
    "plt.plot(exp_var_df['Number_of_Components'], exp_var_df['Explained_Variance_Ratio'], marker = \"o\") # line plot\n",
    "plt.xlabel(\"Number of Principal Components\") # setting the x-axis label\n",
    "plt.ylabel(\"Sum of Explained Variance Ratio\") # setting the y-axis label\n",
    "plt.title('Sum of Explained Variance Ratio against Number of Principal Components') # setting the title\n",
    "plt.show() # displaying the plot"
   ]
  },
  {
   "cell_type": "markdown",
   "id": "179451c2",
   "metadata": {},
   "source": [
    "The graph above shows that the higher the number of Principal Components, the higher the explained variance ratio. This means that more components will better explain the data and reduces the amount of information lost.  \n",
    "\n",
    "I would be choosing 3 Principal components which explain about 70% of the data, with 30% of the information lost."
   ]
  },
  {
   "cell_type": "markdown",
   "id": "ddb5e761",
   "metadata": {},
   "source": [
    "#### Rebuilding the model using just 3 principal components"
   ]
  },
  {
   "cell_type": "code",
   "execution_count": 67,
   "id": "cbff1bc7",
   "metadata": {},
   "outputs": [],
   "source": [
    "# declaring an instance of the model\n",
    "lr3 = LinearRegression()"
   ]
  },
  {
   "cell_type": "code",
   "execution_count": 68,
   "id": "6e220a70",
   "metadata": {},
   "outputs": [],
   "source": [
    "# training the model\n",
    "lr3_model = train_model(lr3, x_train_pca, y_train2)"
   ]
  },
  {
   "cell_type": "code",
   "execution_count": 69,
   "id": "976eb859",
   "metadata": {},
   "outputs": [
    {
     "data": {
      "text/html": [
       "<div>\n",
       "<style scoped>\n",
       "    .dataframe tbody tr th:only-of-type {\n",
       "        vertical-align: middle;\n",
       "    }\n",
       "\n",
       "    .dataframe tbody tr th {\n",
       "        vertical-align: top;\n",
       "    }\n",
       "\n",
       "    .dataframe thead th {\n",
       "        text-align: right;\n",
       "    }\n",
       "</style>\n",
       "<table border=\"1\" class=\"dataframe\">\n",
       "  <thead>\n",
       "    <tr style=\"text-align: right;\">\n",
       "      <th></th>\n",
       "      <th>Mean_Squared_Error</th>\n",
       "      <th>Root_Mean_Squared_Error</th>\n",
       "      <th>Mean_Absolute_Error</th>\n",
       "      <th>Mean_Absolute_Percentage_Error</th>\n",
       "      <th>R_squared</th>\n",
       "      <th>Adjusted_R_squared</th>\n",
       "    </tr>\n",
       "  </thead>\n",
       "  <tbody>\n",
       "    <tr>\n",
       "      <th>0</th>\n",
       "      <td>160.215002</td>\n",
       "      <td>12.657606</td>\n",
       "      <td>10.526926</td>\n",
       "      <td>9.851999</td>\n",
       "      <td>0.515797</td>\n",
       "      <td>0.513993</td>\n",
       "    </tr>\n",
       "  </tbody>\n",
       "</table>\n",
       "</div>"
      ],
      "text/plain": [
       "   Mean_Squared_Error  Root_Mean_Squared_Error  Mean_Absolute_Error  \\\n",
       "0          160.215002                12.657606            10.526926   \n",
       "\n",
       "   Mean_Absolute_Percentage_Error  R_squared  Adjusted_R_squared  \n",
       "0                        9.851999   0.515797            0.513993  "
      ]
     },
     "execution_count": 69,
     "metadata": {},
     "output_type": "execute_result"
    }
   ],
   "source": [
    "# checking the metrics on the training data\n",
    "train_pca_metrics = compute_model_metrics(lr3_model, x_train_pca, y_train2)\n",
    "train_pca_metrics"
   ]
  },
  {
   "cell_type": "code",
   "execution_count": 70,
   "id": "bcb6856d",
   "metadata": {},
   "outputs": [
    {
     "data": {
      "text/html": [
       "<div>\n",
       "<style scoped>\n",
       "    .dataframe tbody tr th:only-of-type {\n",
       "        vertical-align: middle;\n",
       "    }\n",
       "\n",
       "    .dataframe tbody tr th {\n",
       "        vertical-align: top;\n",
       "    }\n",
       "\n",
       "    .dataframe thead th {\n",
       "        text-align: right;\n",
       "    }\n",
       "</style>\n",
       "<table border=\"1\" class=\"dataframe\">\n",
       "  <thead>\n",
       "    <tr style=\"text-align: right;\">\n",
       "      <th></th>\n",
       "      <th>Mean_Squared_Error</th>\n",
       "      <th>Root_Mean_Squared_Error</th>\n",
       "      <th>Mean_Absolute_Error</th>\n",
       "      <th>Mean_Absolute_Percentage_Error</th>\n",
       "      <th>R_squared</th>\n",
       "      <th>Adjusted_R_squared</th>\n",
       "    </tr>\n",
       "  </thead>\n",
       "  <tbody>\n",
       "    <tr>\n",
       "      <th>0</th>\n",
       "      <td>161.758607</td>\n",
       "      <td>12.718436</td>\n",
       "      <td>10.483108</td>\n",
       "      <td>9.689602</td>\n",
       "      <td>0.563884</td>\n",
       "      <td>0.557309</td>\n",
       "    </tr>\n",
       "  </tbody>\n",
       "</table>\n",
       "</div>"
      ],
      "text/plain": [
       "   Mean_Squared_Error  Root_Mean_Squared_Error  Mean_Absolute_Error  \\\n",
       "0          161.758607                12.718436            10.483108   \n",
       "\n",
       "   Mean_Absolute_Percentage_Error  R_squared  Adjusted_R_squared  \n",
       "0                        9.689602   0.563884            0.557309  "
      ]
     },
     "execution_count": 70,
     "metadata": {},
     "output_type": "execute_result"
    }
   ],
   "source": [
    "# checking the metrics on the test data\n",
    "test_pca_metrics = compute_model_metrics(lr3_model, x_test_pca, y_test2)\n",
    "test_pca_metrics"
   ]
  },
  {
   "cell_type": "markdown",
   "id": "9e9d27b4",
   "metadata": {},
   "source": [
    "Comparing the performance of the model with the initial models, we can see a reduced coefficient of determination. This is expected for the following reason:\n",
    "\n",
    "- PCA is ideally performed on high dimensional data and works by summarizing the important variables in the data while losing some information in the process. Applying PCA to our original data which is small will result in some information lost. The coefficient of determination which shows the percentage to which the independent variables explain the response variable would be reduced as a result of this."
   ]
  },
  {
   "cell_type": "markdown",
   "id": "f6f0cd3b",
   "metadata": {},
   "source": [
    "## Task 3\n",
    "\n",
    "**Investigate the relationship between age and heartrate  by means of age grouping.  \n",
    "Provide graphical representation. (Hint: Calculate mean heartrate for each group).  \n",
    "Explain your choice of age intervals.**"
   ]
  },
  {
   "cell_type": "code",
   "execution_count": 71,
   "id": "aa4eda6e",
   "metadata": {},
   "outputs": [
    {
     "data": {
      "text/plain": [
       "count    1012.000000\n",
       "mean       29.899209\n",
       "std        13.473560\n",
       "min        10.000000\n",
       "25%        19.000000\n",
       "50%        26.000000\n",
       "75%        39.000000\n",
       "max        70.000000\n",
       "Name: Age, dtype: float64"
      ]
     },
     "execution_count": 71,
     "metadata": {},
     "output_type": "execute_result"
    }
   ],
   "source": [
    "# age distribution\n",
    "df['Age'].describe().T"
   ]
  },
  {
   "cell_type": "markdown",
   "id": "62e42358",
   "metadata": {},
   "source": [
    "Equal bands of 5 would be used for the age grouping starting from age 0 - 14 (avg. age of menarche). Ths grouping has been selected to ensure consistency and aid comparison across different domains."
   ]
  },
  {
   "cell_type": "code",
   "execution_count": 72,
   "id": "f6da35b0",
   "metadata": {},
   "outputs": [],
   "source": [
    "# function to compute the age group. \n",
    "\n",
    "def compute_age_group(age):\n",
    "    \"\"\"Function to compute age groups\n",
    "    Args:\n",
    "        age: the age column values\n",
    "    Returns: the age groups\n",
    "    \"\"\"\n",
    "    \n",
    "    if age <= 14:\n",
    "        return '0 - 14'\n",
    "    elif age <= 19:\n",
    "        return '15 - 19'\n",
    "    elif age <= 24:\n",
    "        return '20 - 24'\n",
    "    elif age <= 29:\n",
    "        return '25 - 29'\n",
    "    elif age <= 34:\n",
    "        return '30 - 34'\n",
    "    elif age <= 39:\n",
    "        return '35 - 39'\n",
    "    elif age <= 44:\n",
    "        return '40 - 44'\n",
    "    elif age <= 49:\n",
    "        return '45 - 49'\n",
    "    elif age <= 54:\n",
    "        return '50 - 54'\n",
    "    elif age <= 59:\n",
    "        return '55 - 59'\n",
    "    elif age >= 60:\n",
    "        return '60+'"
   ]
  },
  {
   "cell_type": "code",
   "execution_count": 73,
   "id": "b5cf5ce0",
   "metadata": {},
   "outputs": [],
   "source": [
    "# applying the age group function\n",
    "df['Age_Group'] = df['Age'].apply(compute_age_group)"
   ]
  },
  {
   "cell_type": "code",
   "execution_count": 74,
   "id": "ec14f6fa",
   "metadata": {},
   "outputs": [
    {
     "data": {
      "text/html": [
       "<div>\n",
       "<style scoped>\n",
       "    .dataframe tbody tr th:only-of-type {\n",
       "        vertical-align: middle;\n",
       "    }\n",
       "\n",
       "    .dataframe tbody tr th {\n",
       "        vertical-align: top;\n",
       "    }\n",
       "\n",
       "    .dataframe thead th {\n",
       "        text-align: right;\n",
       "    }\n",
       "</style>\n",
       "<table border=\"1\" class=\"dataframe\">\n",
       "  <thead>\n",
       "    <tr style=\"text-align: right;\">\n",
       "      <th></th>\n",
       "      <th>Age</th>\n",
       "      <th>SystolicBP</th>\n",
       "      <th>DiastolicBP</th>\n",
       "      <th>BS</th>\n",
       "      <th>BodyTemp</th>\n",
       "      <th>HeartRate</th>\n",
       "      <th>RiskLevel_high risk</th>\n",
       "      <th>RiskLevel_low risk</th>\n",
       "      <th>RiskLevel_mid risk</th>\n",
       "      <th>Age_Group</th>\n",
       "    </tr>\n",
       "  </thead>\n",
       "  <tbody>\n",
       "    <tr>\n",
       "      <th>895</th>\n",
       "      <td>48</td>\n",
       "      <td>120</td>\n",
       "      <td>80</td>\n",
       "      <td>11.0</td>\n",
       "      <td>98.0</td>\n",
       "      <td>88</td>\n",
       "      <td>0</td>\n",
       "      <td>1</td>\n",
       "      <td>0</td>\n",
       "      <td>45 - 49</td>\n",
       "    </tr>\n",
       "    <tr>\n",
       "      <th>969</th>\n",
       "      <td>50</td>\n",
       "      <td>130</td>\n",
       "      <td>100</td>\n",
       "      <td>16.0</td>\n",
       "      <td>98.0</td>\n",
       "      <td>75</td>\n",
       "      <td>1</td>\n",
       "      <td>0</td>\n",
       "      <td>0</td>\n",
       "      <td>50 - 54</td>\n",
       "    </tr>\n",
       "    <tr>\n",
       "      <th>29</th>\n",
       "      <td>28</td>\n",
       "      <td>90</td>\n",
       "      <td>60</td>\n",
       "      <td>7.2</td>\n",
       "      <td>98.0</td>\n",
       "      <td>82</td>\n",
       "      <td>0</td>\n",
       "      <td>1</td>\n",
       "      <td>0</td>\n",
       "      <td>25 - 29</td>\n",
       "    </tr>\n",
       "    <tr>\n",
       "      <th>183</th>\n",
       "      <td>50</td>\n",
       "      <td>130</td>\n",
       "      <td>100</td>\n",
       "      <td>16.0</td>\n",
       "      <td>98.0</td>\n",
       "      <td>75</td>\n",
       "      <td>1</td>\n",
       "      <td>0</td>\n",
       "      <td>0</td>\n",
       "      <td>50 - 54</td>\n",
       "    </tr>\n",
       "    <tr>\n",
       "      <th>595</th>\n",
       "      <td>40</td>\n",
       "      <td>120</td>\n",
       "      <td>95</td>\n",
       "      <td>11.0</td>\n",
       "      <td>98.0</td>\n",
       "      <td>80</td>\n",
       "      <td>1</td>\n",
       "      <td>0</td>\n",
       "      <td>0</td>\n",
       "      <td>40 - 44</td>\n",
       "    </tr>\n",
       "  </tbody>\n",
       "</table>\n",
       "</div>"
      ],
      "text/plain": [
       "     Age  SystolicBP  DiastolicBP    BS  BodyTemp  HeartRate  \\\n",
       "895   48         120           80  11.0      98.0         88   \n",
       "969   50         130          100  16.0      98.0         75   \n",
       "29    28          90           60   7.2      98.0         82   \n",
       "183   50         130          100  16.0      98.0         75   \n",
       "595   40         120           95  11.0      98.0         80   \n",
       "\n",
       "     RiskLevel_high risk  RiskLevel_low risk  RiskLevel_mid risk Age_Group  \n",
       "895                    0                   1                   0   45 - 49  \n",
       "969                    1                   0                   0   50 - 54  \n",
       "29                     0                   1                   0   25 - 29  \n",
       "183                    1                   0                   0   50 - 54  \n",
       "595                    1                   0                   0   40 - 44  "
      ]
     },
     "execution_count": 74,
     "metadata": {},
     "output_type": "execute_result"
    }
   ],
   "source": [
    "# checking the dataframe\n",
    "df.sample(5)"
   ]
  },
  {
   "cell_type": "code",
   "execution_count": 75,
   "id": "696fcfe9",
   "metadata": {},
   "outputs": [
    {
     "data": {
      "text/html": [
       "<div>\n",
       "<style scoped>\n",
       "    .dataframe tbody tr th:only-of-type {\n",
       "        vertical-align: middle;\n",
       "    }\n",
       "\n",
       "    .dataframe tbody tr th {\n",
       "        vertical-align: top;\n",
       "    }\n",
       "\n",
       "    .dataframe thead th {\n",
       "        text-align: right;\n",
       "    }\n",
       "</style>\n",
       "<table border=\"1\" class=\"dataframe\">\n",
       "  <thead>\n",
       "    <tr style=\"text-align: right;\">\n",
       "      <th></th>\n",
       "      <th>Age_Groups</th>\n",
       "      <th>Mean_Heart_Rate</th>\n",
       "    </tr>\n",
       "  </thead>\n",
       "  <tbody>\n",
       "    <tr>\n",
       "      <th>0</th>\n",
       "      <td>0 - 14</td>\n",
       "      <td>70.203704</td>\n",
       "    </tr>\n",
       "    <tr>\n",
       "      <th>1</th>\n",
       "      <td>15 - 19</td>\n",
       "      <td>73.587444</td>\n",
       "    </tr>\n",
       "    <tr>\n",
       "      <th>2</th>\n",
       "      <td>20 - 24</td>\n",
       "      <td>73.636872</td>\n",
       "    </tr>\n",
       "    <tr>\n",
       "      <th>3</th>\n",
       "      <td>25 - 29</td>\n",
       "      <td>77.937500</td>\n",
       "    </tr>\n",
       "    <tr>\n",
       "      <th>4</th>\n",
       "      <td>30 - 34</td>\n",
       "      <td>74.509091</td>\n",
       "    </tr>\n",
       "    <tr>\n",
       "      <th>5</th>\n",
       "      <td>35 - 39</td>\n",
       "      <td>73.803030</td>\n",
       "    </tr>\n",
       "    <tr>\n",
       "      <th>6</th>\n",
       "      <td>40 - 44</td>\n",
       "      <td>74.913043</td>\n",
       "    </tr>\n",
       "    <tr>\n",
       "      <th>7</th>\n",
       "      <td>45 - 49</td>\n",
       "      <td>82.288889</td>\n",
       "    </tr>\n",
       "    <tr>\n",
       "      <th>8</th>\n",
       "      <td>50 - 54</td>\n",
       "      <td>71.428571</td>\n",
       "    </tr>\n",
       "    <tr>\n",
       "      <th>9</th>\n",
       "      <td>55 - 59</td>\n",
       "      <td>74.000000</td>\n",
       "    </tr>\n",
       "    <tr>\n",
       "      <th>10</th>\n",
       "      <td>60+</td>\n",
       "      <td>73.119048</td>\n",
       "    </tr>\n",
       "  </tbody>\n",
       "</table>\n",
       "</div>"
      ],
      "text/plain": [
       "   Age_Groups  Mean_Heart_Rate\n",
       "0      0 - 14        70.203704\n",
       "1     15 - 19        73.587444\n",
       "2     20 - 24        73.636872\n",
       "3     25 - 29        77.937500\n",
       "4     30 - 34        74.509091\n",
       "5     35 - 39        73.803030\n",
       "6     40 - 44        74.913043\n",
       "7     45 - 49        82.288889\n",
       "8     50 - 54        71.428571\n",
       "9     55 - 59        74.000000\n",
       "10        60+        73.119048"
      ]
     },
     "execution_count": 75,
     "metadata": {},
     "output_type": "execute_result"
    }
   ],
   "source": [
    "# getting the unique values for the age group\n",
    "age_groups = ['0 - 14', '15 - 19', '20 - 24', '25 - 29', '30 - 34', '35 - 39', '40 - 44', '45 - 49', \n",
    "              '50 - 54', '55 - 59', '60+']\n",
    "\n",
    "# computing the mean HeartRate per age group using a list comprehension\n",
    "mean_heart_rate = [df[df['Age_Group'] == i]['HeartRate'].mean() for i in age_groups] \n",
    "\n",
    "# creating a dataframe by pairing the age groups with the mean heart rate values\n",
    "mean_heartrate_df = pd.DataFrame({\"Age_Groups\": age_groups, \"Mean_Heart_Rate\": mean_heart_rate})\n",
    "mean_heartrate_df"
   ]
  },
  {
   "cell_type": "markdown",
   "id": "4cb82da4",
   "metadata": {},
   "source": [
    "- The dataframe above shows the computed Age Groups and the Mean Heart Rate"
   ]
  },
  {
   "cell_type": "code",
   "execution_count": 76,
   "id": "990326d3",
   "metadata": {},
   "outputs": [
    {
     "data": {
      "image/png": "[encoded data removed]",
      "text/plain": [
       "<Figure size 1000x600 with 1 Axes>"
      ]
     },
     "metadata": {},
     "output_type": "display_data"
    }
   ],
   "source": [
    "# scatterplot of heart rate against age\n",
    "bivariate_plot(mean_heartrate_df, 'Age_Groups', 'Mean_Heart_Rate', sns.scatterplot, figsize=(10, 6))"
   ]
  },
  {
   "cell_type": "markdown",
   "id": "61694bd0",
   "metadata": {},
   "source": [
    "- The above scatter plot shows that there is no correlation between mean heart rate and age groups."
   ]
  },
  {
   "cell_type": "code",
   "execution_count": 77,
   "id": "6d730972",
   "metadata": {},
   "outputs": [
    {
     "data": {
      "image/png": "[encoded data removed]",
      "text/plain": [
       "<Figure size 1000x600 with 1 Axes>"
      ]
     },
     "metadata": {},
     "output_type": "display_data"
    }
   ],
   "source": [
    "# distribution of heart rate against age\n",
    "\n",
    "# colour is set to '#1F77B4' and figure size is set to '(10, 6)'\n",
    "bivariate_plot(mean_heartrate_df, 'Age_Groups', 'Mean_Heart_Rate', sns.barplot, '#1F77B4', (10, 6))"
   ]
  },
  {
   "cell_type": "markdown",
   "id": "3456bb79",
   "metadata": {},
   "source": [
    "- The graph above shows that the average heart rate across all age groups is between 70 - 82 which is normal for pregnant women.\n",
    "- The highest average heart rate is in the 45 -49 age group, however, an almost balanced range can be seen across all age groups.\n",
    "- This shows that Age has no correlation or effect on heart rate as a single variable. Other factors in addition to age could affect the heart rate of a pregnant woman."
   ]
  },
  {
   "cell_type": "markdown",
   "id": "ac32c986",
   "metadata": {},
   "source": [
    "## Task 4\n",
    "\n",
    "**Blood pressure is recorded with 2 numbers: the systolic pressure and diastolic blood pressure. Assume, the high systolic blood pressure starts from 140, the high diastolic blood pressure starts from 90. The normal systolic pressure is in the range (110, 140). The normal diastolic blood pressure is in the range (70, 90). The low systolic pressure is lower than 110, and low diastolic is less than 70.**  \n",
    "\n",
    "**Describe how would you investigate associations between pairs high/high, normal/normal, and low/low diastolic and systolic blood pressure.**  \n",
    "\n",
    "**Calculate, and interpret the following:  \n",
    "(1) Support  \n",
    "(2) Confidence  \n",
    "(3) Conviction  \n",
    "(4) Lift**"
   ]
  },
  {
   "cell_type": "markdown",
   "id": "a30b2155",
   "metadata": {},
   "source": [
    "#### Association Rules for Blood Pressure Pairs"
   ]
  },
  {
   "cell_type": "code",
   "execution_count": 78,
   "id": "d56b6374",
   "metadata": {},
   "outputs": [],
   "source": [
    "# importing relevant libraries\n",
    "from mlxtend.frequent_patterns import apriori, association_rules"
   ]
  },
  {
   "cell_type": "code",
   "execution_count": 79,
   "id": "a6517786",
   "metadata": {},
   "outputs": [],
   "source": [
    "# grouping the SystolicBP and Diastolic BP values into high, normal and low based on the ranges\n",
    "\n",
    "def group_systBP(sysBP):\n",
    "    \"\"\"Function to label systolic BP values as high, normal, low\n",
    "    Args:\n",
    "        sysBP: the systolicBP column values\n",
    "    Returns: the specified label\n",
    "    \"\"\"\n",
    "    \n",
    "    if sysBP >= 140:\n",
    "        return \"High Systolic\"\n",
    "    elif sysBP < 110:\n",
    "        return \"Low Systolic\"\n",
    "    else:\n",
    "        return \"Normal Systolic\"\n",
    "    \n",
    "    \n",
    "def group_diastBP(diastBP):\n",
    "    \"\"\"Function to label diastolic BP values as high, normal, low\n",
    "    Args:\n",
    "        diastBP: the diastolicBP column values\n",
    "    Returns: the specified label\n",
    "    \"\"\"\n",
    "    if diastBP >= 90: \n",
    "        return \"High Diastolic\"\n",
    "    elif diastBP < 70:\n",
    "        return \"Low Diastolic\"\n",
    "    else:\n",
    "        return \"Normal Diastolic\""
   ]
  },
  {
   "cell_type": "code",
   "execution_count": 80,
   "id": "bf108bd2",
   "metadata": {},
   "outputs": [],
   "source": [
    "# applying the functions to the SystolicBP and DiastolicBP columns\n",
    "df['Systolic_Groups'] = df['SystolicBP'].apply(group_systBP) # applying the systolic grouping\n",
    "\n",
    "df['Diastolic_Groups'] = df['DiastolicBP'].apply(group_diastBP) # applying the diastolic grouping"
   ]
  },
  {
   "cell_type": "code",
   "execution_count": 81,
   "id": "8317cfd8",
   "metadata": {},
   "outputs": [
    {
     "data": {
      "text/html": [
       "<div>\n",
       "<style scoped>\n",
       "    .dataframe tbody tr th:only-of-type {\n",
       "        vertical-align: middle;\n",
       "    }\n",
       "\n",
       "    .dataframe tbody tr th {\n",
       "        vertical-align: top;\n",
       "    }\n",
       "\n",
       "    .dataframe thead th {\n",
       "        text-align: right;\n",
       "    }\n",
       "</style>\n",
       "<table border=\"1\" class=\"dataframe\">\n",
       "  <thead>\n",
       "    <tr style=\"text-align: right;\">\n",
       "      <th></th>\n",
       "      <th>Age</th>\n",
       "      <th>SystolicBP</th>\n",
       "      <th>DiastolicBP</th>\n",
       "      <th>BS</th>\n",
       "      <th>BodyTemp</th>\n",
       "      <th>HeartRate</th>\n",
       "      <th>RiskLevel_high risk</th>\n",
       "      <th>RiskLevel_low risk</th>\n",
       "      <th>RiskLevel_mid risk</th>\n",
       "      <th>Age_Group</th>\n",
       "      <th>Systolic_Groups</th>\n",
       "      <th>Diastolic_Groups</th>\n",
       "    </tr>\n",
       "  </thead>\n",
       "  <tbody>\n",
       "    <tr>\n",
       "      <th>997</th>\n",
       "      <td>35</td>\n",
       "      <td>140</td>\n",
       "      <td>100</td>\n",
       "      <td>9.0</td>\n",
       "      <td>98.0</td>\n",
       "      <td>66</td>\n",
       "      <td>1</td>\n",
       "      <td>0</td>\n",
       "      <td>0</td>\n",
       "      <td>35 - 39</td>\n",
       "      <td>High Systolic</td>\n",
       "      <td>High Diastolic</td>\n",
       "    </tr>\n",
       "    <tr>\n",
       "      <th>692</th>\n",
       "      <td>24</td>\n",
       "      <td>120</td>\n",
       "      <td>80</td>\n",
       "      <td>7.5</td>\n",
       "      <td>98.0</td>\n",
       "      <td>66</td>\n",
       "      <td>0</td>\n",
       "      <td>1</td>\n",
       "      <td>0</td>\n",
       "      <td>20 - 24</td>\n",
       "      <td>Normal Systolic</td>\n",
       "      <td>Normal Diastolic</td>\n",
       "    </tr>\n",
       "    <tr>\n",
       "      <th>552</th>\n",
       "      <td>12</td>\n",
       "      <td>90</td>\n",
       "      <td>60</td>\n",
       "      <td>7.5</td>\n",
       "      <td>102.0</td>\n",
       "      <td>60</td>\n",
       "      <td>0</td>\n",
       "      <td>1</td>\n",
       "      <td>0</td>\n",
       "      <td>0 - 14</td>\n",
       "      <td>Low Systolic</td>\n",
       "      <td>Low Diastolic</td>\n",
       "    </tr>\n",
       "    <tr>\n",
       "      <th>305</th>\n",
       "      <td>22</td>\n",
       "      <td>100</td>\n",
       "      <td>65</td>\n",
       "      <td>6.9</td>\n",
       "      <td>98.0</td>\n",
       "      <td>80</td>\n",
       "      <td>0</td>\n",
       "      <td>1</td>\n",
       "      <td>0</td>\n",
       "      <td>20 - 24</td>\n",
       "      <td>Low Systolic</td>\n",
       "      <td>Low Diastolic</td>\n",
       "    </tr>\n",
       "    <tr>\n",
       "      <th>837</th>\n",
       "      <td>19</td>\n",
       "      <td>120</td>\n",
       "      <td>85</td>\n",
       "      <td>9.0</td>\n",
       "      <td>98.0</td>\n",
       "      <td>60</td>\n",
       "      <td>0</td>\n",
       "      <td>0</td>\n",
       "      <td>1</td>\n",
       "      <td>15 - 19</td>\n",
       "      <td>Normal Systolic</td>\n",
       "      <td>Normal Diastolic</td>\n",
       "    </tr>\n",
       "    <tr>\n",
       "      <th>533</th>\n",
       "      <td>25</td>\n",
       "      <td>140</td>\n",
       "      <td>100</td>\n",
       "      <td>7.5</td>\n",
       "      <td>98.0</td>\n",
       "      <td>80</td>\n",
       "      <td>1</td>\n",
       "      <td>0</td>\n",
       "      <td>0</td>\n",
       "      <td>25 - 29</td>\n",
       "      <td>High Systolic</td>\n",
       "      <td>High Diastolic</td>\n",
       "    </tr>\n",
       "    <tr>\n",
       "      <th>892</th>\n",
       "      <td>17</td>\n",
       "      <td>90</td>\n",
       "      <td>60</td>\n",
       "      <td>7.9</td>\n",
       "      <td>101.0</td>\n",
       "      <td>76</td>\n",
       "      <td>0</td>\n",
       "      <td>1</td>\n",
       "      <td>0</td>\n",
       "      <td>15 - 19</td>\n",
       "      <td>Low Systolic</td>\n",
       "      <td>Low Diastolic</td>\n",
       "    </tr>\n",
       "    <tr>\n",
       "      <th>391</th>\n",
       "      <td>32</td>\n",
       "      <td>120</td>\n",
       "      <td>90</td>\n",
       "      <td>7.8</td>\n",
       "      <td>98.0</td>\n",
       "      <td>70</td>\n",
       "      <td>0</td>\n",
       "      <td>1</td>\n",
       "      <td>0</td>\n",
       "      <td>30 - 34</td>\n",
       "      <td>Normal Systolic</td>\n",
       "      <td>High Diastolic</td>\n",
       "    </tr>\n",
       "    <tr>\n",
       "      <th>343</th>\n",
       "      <td>16</td>\n",
       "      <td>90</td>\n",
       "      <td>65</td>\n",
       "      <td>6.9</td>\n",
       "      <td>98.0</td>\n",
       "      <td>76</td>\n",
       "      <td>0</td>\n",
       "      <td>0</td>\n",
       "      <td>1</td>\n",
       "      <td>15 - 19</td>\n",
       "      <td>Low Systolic</td>\n",
       "      <td>Low Diastolic</td>\n",
       "    </tr>\n",
       "    <tr>\n",
       "      <th>941</th>\n",
       "      <td>60</td>\n",
       "      <td>120</td>\n",
       "      <td>80</td>\n",
       "      <td>7.5</td>\n",
       "      <td>98.0</td>\n",
       "      <td>75</td>\n",
       "      <td>0</td>\n",
       "      <td>1</td>\n",
       "      <td>0</td>\n",
       "      <td>60+</td>\n",
       "      <td>Normal Systolic</td>\n",
       "      <td>Normal Diastolic</td>\n",
       "    </tr>\n",
       "  </tbody>\n",
       "</table>\n",
       "</div>"
      ],
      "text/plain": [
       "     Age  SystolicBP  DiastolicBP   BS  BodyTemp  HeartRate  \\\n",
       "997   35         140          100  9.0      98.0         66   \n",
       "692   24         120           80  7.5      98.0         66   \n",
       "552   12          90           60  7.5     102.0         60   \n",
       "305   22         100           65  6.9      98.0         80   \n",
       "837   19         120           85  9.0      98.0         60   \n",
       "533   25         140          100  7.5      98.0         80   \n",
       "892   17          90           60  7.9     101.0         76   \n",
       "391   32         120           90  7.8      98.0         70   \n",
       "343   16          90           65  6.9      98.0         76   \n",
       "941   60         120           80  7.5      98.0         75   \n",
       "\n",
       "     RiskLevel_high risk  RiskLevel_low risk  RiskLevel_mid risk Age_Group  \\\n",
       "997                    1                   0                   0   35 - 39   \n",
       "692                    0                   1                   0   20 - 24   \n",
       "552                    0                   1                   0    0 - 14   \n",
       "305                    0                   1                   0   20 - 24   \n",
       "837                    0                   0                   1   15 - 19   \n",
       "533                    1                   0                   0   25 - 29   \n",
       "892                    0                   1                   0   15 - 19   \n",
       "391                    0                   1                   0   30 - 34   \n",
       "343                    0                   0                   1   15 - 19   \n",
       "941                    0                   1                   0       60+   \n",
       "\n",
       "     Systolic_Groups  Diastolic_Groups  \n",
       "997    High Systolic    High Diastolic  \n",
       "692  Normal Systolic  Normal Diastolic  \n",
       "552     Low Systolic     Low Diastolic  \n",
       "305     Low Systolic     Low Diastolic  \n",
       "837  Normal Systolic  Normal Diastolic  \n",
       "533    High Systolic    High Diastolic  \n",
       "892     Low Systolic     Low Diastolic  \n",
       "391  Normal Systolic    High Diastolic  \n",
       "343     Low Systolic     Low Diastolic  \n",
       "941  Normal Systolic  Normal Diastolic  "
      ]
     },
     "execution_count": 81,
     "metadata": {},
     "output_type": "execute_result"
    }
   ],
   "source": [
    "# checking the dataframe\n",
    "df.sample(10)"
   ]
  },
  {
   "cell_type": "code",
   "execution_count": 82,
   "id": "53a784ae",
   "metadata": {},
   "outputs": [
    {
     "data": {
      "text/html": [
       "<div>\n",
       "<style scoped>\n",
       "    .dataframe tbody tr th:only-of-type {\n",
       "        vertical-align: middle;\n",
       "    }\n",
       "\n",
       "    .dataframe tbody tr th {\n",
       "        vertical-align: top;\n",
       "    }\n",
       "\n",
       "    .dataframe thead th {\n",
       "        text-align: right;\n",
       "    }\n",
       "</style>\n",
       "<table border=\"1\" class=\"dataframe\">\n",
       "  <thead>\n",
       "    <tr style=\"text-align: right;\">\n",
       "      <th></th>\n",
       "      <th>Systolic_Groups_High Systolic</th>\n",
       "      <th>Systolic_Groups_Low Systolic</th>\n",
       "      <th>Systolic_Groups_Normal Systolic</th>\n",
       "      <th>Diastolic_Groups_High Diastolic</th>\n",
       "      <th>Diastolic_Groups_Low Diastolic</th>\n",
       "      <th>Diastolic_Groups_Normal Diastolic</th>\n",
       "    </tr>\n",
       "  </thead>\n",
       "  <tbody>\n",
       "    <tr>\n",
       "      <th>0</th>\n",
       "      <td>0</td>\n",
       "      <td>0</td>\n",
       "      <td>1</td>\n",
       "      <td>0</td>\n",
       "      <td>0</td>\n",
       "      <td>1</td>\n",
       "    </tr>\n",
       "    <tr>\n",
       "      <th>1</th>\n",
       "      <td>1</td>\n",
       "      <td>0</td>\n",
       "      <td>0</td>\n",
       "      <td>1</td>\n",
       "      <td>0</td>\n",
       "      <td>0</td>\n",
       "    </tr>\n",
       "    <tr>\n",
       "      <th>2</th>\n",
       "      <td>0</td>\n",
       "      <td>1</td>\n",
       "      <td>0</td>\n",
       "      <td>0</td>\n",
       "      <td>0</td>\n",
       "      <td>1</td>\n",
       "    </tr>\n",
       "    <tr>\n",
       "      <th>3</th>\n",
       "      <td>1</td>\n",
       "      <td>0</td>\n",
       "      <td>0</td>\n",
       "      <td>0</td>\n",
       "      <td>0</td>\n",
       "      <td>1</td>\n",
       "    </tr>\n",
       "    <tr>\n",
       "      <th>4</th>\n",
       "      <td>0</td>\n",
       "      <td>0</td>\n",
       "      <td>1</td>\n",
       "      <td>0</td>\n",
       "      <td>1</td>\n",
       "      <td>0</td>\n",
       "    </tr>\n",
       "    <tr>\n",
       "      <th>...</th>\n",
       "      <td>...</td>\n",
       "      <td>...</td>\n",
       "      <td>...</td>\n",
       "      <td>...</td>\n",
       "      <td>...</td>\n",
       "      <td>...</td>\n",
       "    </tr>\n",
       "    <tr>\n",
       "      <th>1009</th>\n",
       "      <td>0</td>\n",
       "      <td>0</td>\n",
       "      <td>1</td>\n",
       "      <td>0</td>\n",
       "      <td>1</td>\n",
       "      <td>0</td>\n",
       "    </tr>\n",
       "    <tr>\n",
       "      <th>1010</th>\n",
       "      <td>0</td>\n",
       "      <td>0</td>\n",
       "      <td>1</td>\n",
       "      <td>1</td>\n",
       "      <td>0</td>\n",
       "      <td>0</td>\n",
       "    </tr>\n",
       "    <tr>\n",
       "      <th>1011</th>\n",
       "      <td>0</td>\n",
       "      <td>1</td>\n",
       "      <td>0</td>\n",
       "      <td>0</td>\n",
       "      <td>1</td>\n",
       "      <td>0</td>\n",
       "    </tr>\n",
       "    <tr>\n",
       "      <th>1012</th>\n",
       "      <td>0</td>\n",
       "      <td>0</td>\n",
       "      <td>1</td>\n",
       "      <td>1</td>\n",
       "      <td>0</td>\n",
       "      <td>0</td>\n",
       "    </tr>\n",
       "    <tr>\n",
       "      <th>1013</th>\n",
       "      <td>0</td>\n",
       "      <td>0</td>\n",
       "      <td>1</td>\n",
       "      <td>0</td>\n",
       "      <td>1</td>\n",
       "      <td>0</td>\n",
       "    </tr>\n",
       "  </tbody>\n",
       "</table>\n",
       "<p>1012 rows × 6 columns</p>\n",
       "</div>"
      ],
      "text/plain": [
       "      Systolic_Groups_High Systolic  Systolic_Groups_Low Systolic  \\\n",
       "0                                 0                             0   \n",
       "1                                 1                             0   \n",
       "2                                 0                             1   \n",
       "3                                 1                             0   \n",
       "4                                 0                             0   \n",
       "...                             ...                           ...   \n",
       "1009                              0                             0   \n",
       "1010                              0                             0   \n",
       "1011                              0                             1   \n",
       "1012                              0                             0   \n",
       "1013                              0                             0   \n",
       "\n",
       "      Systolic_Groups_Normal Systolic  Diastolic_Groups_High Diastolic  \\\n",
       "0                                   1                                0   \n",
       "1                                   0                                1   \n",
       "2                                   0                                0   \n",
       "3                                   0                                0   \n",
       "4                                   1                                0   \n",
       "...                               ...                              ...   \n",
       "1009                                1                                0   \n",
       "1010                                1                                1   \n",
       "1011                                0                                0   \n",
       "1012                                1                                1   \n",
       "1013                                1                                0   \n",
       "\n",
       "      Diastolic_Groups_Low Diastolic  Diastolic_Groups_Normal Diastolic  \n",
       "0                                  0                                  1  \n",
       "1                                  0                                  0  \n",
       "2                                  0                                  1  \n",
       "3                                  0                                  1  \n",
       "4                                  1                                  0  \n",
       "...                              ...                                ...  \n",
       "1009                               1                                  0  \n",
       "1010                               0                                  0  \n",
       "1011                               1                                  0  \n",
       "1012                               0                                  0  \n",
       "1013                               1                                  0  \n",
       "\n",
       "[1012 rows x 6 columns]"
      ]
     },
     "execution_count": 82,
     "metadata": {},
     "output_type": "execute_result"
    }
   ],
   "source": [
    "# applying the get_dummies() function on the systolicBP and diastolicBP groups\n",
    "\n",
    "groups_df = pd.DataFrame(df, columns=['Systolic_Groups', 'Diastolic_Groups']) # creating a separate dataframe\n",
    "\n",
    "encoded_df = pd.get_dummies(groups_df) # encoding the dataframe\n",
    "encoded_df"
   ]
  },
  {
   "cell_type": "code",
   "execution_count": 83,
   "id": "ab05b815",
   "metadata": {},
   "outputs": [
    {
     "name": "stderr",
     "output_type": "stream",
     "text": [
      "/Users/apple/opt/anaconda3/lib/python3.9/site-packages/mlxtend/frequent_patterns/fpcommon.py:111: DeprecationWarning: DataFrames with non-bool types result in worse computationalperformance and their support might be discontinued in the future.Please use a DataFrame with bool type\n",
      "  warnings.warn(\n"
     ]
    },
    {
     "data": {
      "text/html": [
       "<div>\n",
       "<style scoped>\n",
       "    .dataframe tbody tr th:only-of-type {\n",
       "        vertical-align: middle;\n",
       "    }\n",
       "\n",
       "    .dataframe tbody tr th {\n",
       "        vertical-align: top;\n",
       "    }\n",
       "\n",
       "    .dataframe thead th {\n",
       "        text-align: right;\n",
       "    }\n",
       "</style>\n",
       "<table border=\"1\" class=\"dataframe\">\n",
       "  <thead>\n",
       "    <tr style=\"text-align: right;\">\n",
       "      <th></th>\n",
       "      <th>antecedents</th>\n",
       "      <th>consequents</th>\n",
       "      <th>antecedent support</th>\n",
       "      <th>consequent support</th>\n",
       "      <th>support</th>\n",
       "      <th>confidence</th>\n",
       "      <th>lift</th>\n",
       "      <th>leverage</th>\n",
       "      <th>conviction</th>\n",
       "    </tr>\n",
       "  </thead>\n",
       "  <tbody>\n",
       "    <tr>\n",
       "      <th>0</th>\n",
       "      <td>(Diastolic_Groups_High Diastolic)</td>\n",
       "      <td>(Systolic_Groups_High Systolic)</td>\n",
       "      <td>0.272727</td>\n",
       "      <td>0.128458</td>\n",
       "      <td>0.12</td>\n",
       "      <td>0.42</td>\n",
       "      <td>3.30</td>\n",
       "      <td>0.080579</td>\n",
       "      <td>1.51</td>\n",
       "    </tr>\n",
       "    <tr>\n",
       "      <th>1</th>\n",
       "      <td>(Systolic_Groups_High Systolic)</td>\n",
       "      <td>(Diastolic_Groups_High Diastolic)</td>\n",
       "      <td>0.128458</td>\n",
       "      <td>0.272727</td>\n",
       "      <td>0.12</td>\n",
       "      <td>0.90</td>\n",
       "      <td>3.30</td>\n",
       "      <td>0.080579</td>\n",
       "      <td>7.27</td>\n",
       "    </tr>\n",
       "    <tr>\n",
       "      <th>2</th>\n",
       "      <td>(Diastolic_Groups_Low Diastolic)</td>\n",
       "      <td>(Systolic_Groups_Low Systolic)</td>\n",
       "      <td>0.317194</td>\n",
       "      <td>0.339921</td>\n",
       "      <td>0.27</td>\n",
       "      <td>0.84</td>\n",
       "      <td>2.47</td>\n",
       "      <td>0.158978</td>\n",
       "      <td>4.15</td>\n",
       "    </tr>\n",
       "    <tr>\n",
       "      <th>3</th>\n",
       "      <td>(Systolic_Groups_Low Systolic)</td>\n",
       "      <td>(Diastolic_Groups_Low Diastolic)</td>\n",
       "      <td>0.339921</td>\n",
       "      <td>0.317194</td>\n",
       "      <td>0.27</td>\n",
       "      <td>0.78</td>\n",
       "      <td>2.47</td>\n",
       "      <td>0.158978</td>\n",
       "      <td>3.17</td>\n",
       "    </tr>\n",
       "    <tr>\n",
       "      <th>4</th>\n",
       "      <td>(Systolic_Groups_Normal Systolic)</td>\n",
       "      <td>(Diastolic_Groups_High Diastolic)</td>\n",
       "      <td>0.531621</td>\n",
       "      <td>0.272727</td>\n",
       "      <td>0.15</td>\n",
       "      <td>0.28</td>\n",
       "      <td>1.02</td>\n",
       "      <td>0.002246</td>\n",
       "      <td>1.01</td>\n",
       "    </tr>\n",
       "    <tr>\n",
       "      <th>5</th>\n",
       "      <td>(Diastolic_Groups_High Diastolic)</td>\n",
       "      <td>(Systolic_Groups_Normal Systolic)</td>\n",
       "      <td>0.272727</td>\n",
       "      <td>0.531621</td>\n",
       "      <td>0.15</td>\n",
       "      <td>0.54</td>\n",
       "      <td>1.02</td>\n",
       "      <td>0.002246</td>\n",
       "      <td>1.02</td>\n",
       "    </tr>\n",
       "    <tr>\n",
       "      <th>6</th>\n",
       "      <td>(Systolic_Groups_Normal Systolic)</td>\n",
       "      <td>(Diastolic_Groups_Normal Diastolic)</td>\n",
       "      <td>0.531621</td>\n",
       "      <td>0.410079</td>\n",
       "      <td>0.33</td>\n",
       "      <td>0.63</td>\n",
       "      <td>1.53</td>\n",
       "      <td>0.115986</td>\n",
       "      <td>1.59</td>\n",
       "    </tr>\n",
       "    <tr>\n",
       "      <th>7</th>\n",
       "      <td>(Diastolic_Groups_Normal Diastolic)</td>\n",
       "      <td>(Systolic_Groups_Normal Systolic)</td>\n",
       "      <td>0.410079</td>\n",
       "      <td>0.531621</td>\n",
       "      <td>0.33</td>\n",
       "      <td>0.81</td>\n",
       "      <td>1.53</td>\n",
       "      <td>0.115986</td>\n",
       "      <td>2.52</td>\n",
       "    </tr>\n",
       "  </tbody>\n",
       "</table>\n",
       "</div>"
      ],
      "text/plain": [
       "                           antecedents                          consequents  \\\n",
       "0    (Diastolic_Groups_High Diastolic)      (Systolic_Groups_High Systolic)   \n",
       "1      (Systolic_Groups_High Systolic)    (Diastolic_Groups_High Diastolic)   \n",
       "2     (Diastolic_Groups_Low Diastolic)       (Systolic_Groups_Low Systolic)   \n",
       "3       (Systolic_Groups_Low Systolic)     (Diastolic_Groups_Low Diastolic)   \n",
       "4    (Systolic_Groups_Normal Systolic)    (Diastolic_Groups_High Diastolic)   \n",
       "5    (Diastolic_Groups_High Diastolic)    (Systolic_Groups_Normal Systolic)   \n",
       "6    (Systolic_Groups_Normal Systolic)  (Diastolic_Groups_Normal Diastolic)   \n",
       "7  (Diastolic_Groups_Normal Diastolic)    (Systolic_Groups_Normal Systolic)   \n",
       "\n",
       "   antecedent support  consequent support  support  confidence  lift  \\\n",
       "0            0.272727            0.128458     0.12        0.42  3.30   \n",
       "1            0.128458            0.272727     0.12        0.90  3.30   \n",
       "2            0.317194            0.339921     0.27        0.84  2.47   \n",
       "3            0.339921            0.317194     0.27        0.78  2.47   \n",
       "4            0.531621            0.272727     0.15        0.28  1.02   \n",
       "5            0.272727            0.531621     0.15        0.54  1.02   \n",
       "6            0.531621            0.410079     0.33        0.63  1.53   \n",
       "7            0.410079            0.531621     0.33        0.81  1.53   \n",
       "\n",
       "   leverage  conviction  \n",
       "0  0.080579        1.51  \n",
       "1  0.080579        7.27  \n",
       "2  0.158978        4.15  \n",
       "3  0.158978        3.17  \n",
       "4  0.002246        1.01  \n",
       "5  0.002246        1.02  \n",
       "6  0.115986        1.59  \n",
       "7  0.115986        2.52  "
      ]
     },
     "execution_count": 83,
     "metadata": {},
     "output_type": "execute_result"
    }
   ],
   "source": [
    "# generating frequent itemsets with minimum support of 0.1 to ensure all values are captured\n",
    "freq_itemsets = apriori(encoded_df, min_support=0.1, use_colnames=True)\n",
    "\n",
    "# generating association rules with minimum confidence of 0.2 to ensure all values are captured\n",
    "assoc_rules = association_rules(freq_itemsets, metric='confidence', min_threshold=0.2)\n",
    "\n",
    "# calculating the support, confidence, conviction, and lift for each rule\n",
    "assoc_rules['support'] = assoc_rules['support'].round(2) # computing the support\n",
    "assoc_rules['confidence'] = assoc_rules['confidence'].round(2) # computing the confidence\n",
    "assoc_rules['lift'] = assoc_rules['lift'].round(2) # computing the lift\n",
    "assoc_rules['conviction'] = assoc_rules['conviction'].round(2) # computing the conviction\n",
    "\n",
    "# displaying the association rules and evaluation metrics\n",
    "assoc_rules"
   ]
  },
  {
   "cell_type": "markdown",
   "id": "da84f535",
   "metadata": {},
   "source": [
    "- The dataframe above shows the support, confidence, lift and conviction for the blood pressure pairs."
   ]
  },
  {
   "cell_type": "markdown",
   "id": "8e9f9018",
   "metadata": {},
   "source": [
    "## Task 5\n",
    "\n",
    "**Find clusters of patients with similar Systolic BP.**"
   ]
  },
  {
   "cell_type": "code",
   "execution_count": 84,
   "id": "e6107cbe",
   "metadata": {},
   "outputs": [],
   "source": [
    "# converting the systolicBP series to an array, and reshaping it to a 2D array\n",
    "X_sysBP = np.array(df['SystolicBP']).reshape(-1, 1) \n",
    "\n",
    "scaler_sysBP = StandardScaler() # creating an instance of the StandardScaler class\n",
    "\n",
    "X_sysBP_sc = scaler_sysBP.fit_transform(X_sysBP) # scaling the SystolicBP array"
   ]
  },
  {
   "cell_type": "code",
   "execution_count": 85,
   "id": "619d20d3",
   "metadata": {},
   "outputs": [
    {
     "data": {
      "text/plain": [
       "array([[ 0.91334854],\n",
       "       [ 1.45651638],\n",
       "       [-1.25932284],\n",
       "       ...,\n",
       "       [-1.53090676],\n",
       "       [ 0.37018069],\n",
       "       [ 0.37018069]])"
      ]
     },
     "execution_count": 85,
     "metadata": {},
     "output_type": "execute_result"
    }
   ],
   "source": [
    "# the scaled SystolicBP array\n",
    "X_sysBP_sc"
   ]
  },
  {
   "cell_type": "markdown",
   "id": "76a749f5",
   "metadata": {},
   "source": [
    "#### K-Means Clustering"
   ]
  },
  {
   "cell_type": "markdown",
   "id": "0ea5a211",
   "metadata": {},
   "source": [
    "In K-Means clustering, we have to choose an initial number of clusters to use for the grouping.  \n",
    "The optimal number of clusters is the one that gives the least Sum of Squared Errors.  \n",
    "The inertia calculates the Sum of Squared Errors (SSE) and measures how effectively the K-Means clustering method groups the data."
   ]
  },
  {
   "cell_type": "code",
   "execution_count": 86,
   "id": "af77f9b2",
   "metadata": {},
   "outputs": [],
   "source": [
    "# importing relevant libraries to perform k-means clustering and compute silhouette scores\n",
    "from sklearn.cluster import KMeans"
   ]
  },
  {
   "cell_type": "code",
   "execution_count": 87,
   "id": "77743f0b",
   "metadata": {},
   "outputs": [],
   "source": [
    "# function to compute the inertia (Sum of Squared Errors)\n",
    "\n",
    "def compute_inertia(data):\n",
    "    \"\"\"Function to compute inertia\n",
    "    Args:\n",
    "        data: the scaled data\n",
    "    Returns:\n",
    "        results_frame: a dataframe of the results\n",
    "    \"\"\"\n",
    "    \n",
    "    clusters = [i for i in range(1, 11)] # clusters list from 1 - 10\n",
    "    inertia_scores = [] # creating an empty list to hold the inertia scores\n",
    "    for i in clusters: # looping through the clusters\n",
    "        kmeans = KMeans(n_clusters=i, n_init=10, random_state=0) # declaring an instance of the KMeans cluster\n",
    "        kmeans.fit(data) # fitting the scaled data\n",
    "        inertia_scores.append(kmeans.inertia_) # appending the scores to the inertia_scores list\n",
    "    \n",
    "    result_frame = pd.DataFrame({\"Clusters\": clusters, \"Inertia\": inertia_scores}) # creaating a dataframe\n",
    "    return result_frame # returns the dataframe"
   ]
  },
  {
   "cell_type": "code",
   "execution_count": 88,
   "id": "36985103",
   "metadata": {},
   "outputs": [
    {
     "data": {
      "text/html": [
       "<div>\n",
       "<style scoped>\n",
       "    .dataframe tbody tr th:only-of-type {\n",
       "        vertical-align: middle;\n",
       "    }\n",
       "\n",
       "    .dataframe tbody tr th {\n",
       "        vertical-align: top;\n",
       "    }\n",
       "\n",
       "    .dataframe thead th {\n",
       "        text-align: right;\n",
       "    }\n",
       "</style>\n",
       "<table border=\"1\" class=\"dataframe\">\n",
       "  <thead>\n",
       "    <tr style=\"text-align: right;\">\n",
       "      <th></th>\n",
       "      <th>Clusters</th>\n",
       "      <th>Inertia</th>\n",
       "    </tr>\n",
       "  </thead>\n",
       "  <tbody>\n",
       "    <tr>\n",
       "      <th>0</th>\n",
       "      <td>1</td>\n",
       "      <td>1012.000000</td>\n",
       "    </tr>\n",
       "    <tr>\n",
       "      <th>1</th>\n",
       "      <td>2</td>\n",
       "      <td>226.241031</td>\n",
       "    </tr>\n",
       "    <tr>\n",
       "      <th>2</th>\n",
       "      <td>3</td>\n",
       "      <td>90.388252</td>\n",
       "    </tr>\n",
       "    <tr>\n",
       "      <th>3</th>\n",
       "      <td>4</td>\n",
       "      <td>55.131353</td>\n",
       "    </tr>\n",
       "    <tr>\n",
       "      <th>4</th>\n",
       "      <td>5</td>\n",
       "      <td>37.573173</td>\n",
       "    </tr>\n",
       "    <tr>\n",
       "      <th>5</th>\n",
       "      <td>6</td>\n",
       "      <td>21.318433</td>\n",
       "    </tr>\n",
       "    <tr>\n",
       "      <th>6</th>\n",
       "      <td>7</td>\n",
       "      <td>10.424969</td>\n",
       "    </tr>\n",
       "    <tr>\n",
       "      <th>7</th>\n",
       "      <td>8</td>\n",
       "      <td>5.092601</td>\n",
       "    </tr>\n",
       "    <tr>\n",
       "      <th>8</th>\n",
       "      <td>9</td>\n",
       "      <td>2.395270</td>\n",
       "    </tr>\n",
       "    <tr>\n",
       "      <th>9</th>\n",
       "      <td>10</td>\n",
       "      <td>1.613451</td>\n",
       "    </tr>\n",
       "  </tbody>\n",
       "</table>\n",
       "</div>"
      ],
      "text/plain": [
       "   Clusters      Inertia\n",
       "0         1  1012.000000\n",
       "1         2   226.241031\n",
       "2         3    90.388252\n",
       "3         4    55.131353\n",
       "4         5    37.573173\n",
       "5         6    21.318433\n",
       "6         7    10.424969\n",
       "7         8     5.092601\n",
       "8         9     2.395270\n",
       "9        10     1.613451"
      ]
     },
     "execution_count": 88,
     "metadata": {},
     "output_type": "execute_result"
    }
   ],
   "source": [
    "result_df = compute_inertia(X_sysBP_sc) # applying the function\n",
    "result_df"
   ]
  },
  {
   "cell_type": "markdown",
   "id": "742978bc",
   "metadata": {},
   "source": [
    "- We would be using the dataframe above to plot the elbow curve to determine the optimum number of clusters."
   ]
  },
  {
   "cell_type": "code",
   "execution_count": 89,
   "id": "d6638302",
   "metadata": {},
   "outputs": [
    {
     "data": {
      "image/png": "[encoded data removed]",
      "text/plain": [
       "<Figure size 800x600 with 1 Axes>"
      ]
     },
     "metadata": {},
     "output_type": "display_data"
    }
   ],
   "source": [
    "# plotting the elbow curve\n",
    "plt.figure(figsize = (8, 6)) # setting the figure size\n",
    "plt.plot(result_df[\"Clusters\"], result_df[\"Inertia\"], marker = \"o\") # creating the plot\n",
    "plt.xlabel(\"Number of Clusters\") # specifying the xlabel\n",
    "plt.ylabel(\"Inertia\") # specifying the ylabel\n",
    "plt.title(\"Inertia against Number of Clusters\") # specifying the title\n",
    "plt.show() # showing the plot"
   ]
  },
  {
   "cell_type": "markdown",
   "id": "84e0e90b",
   "metadata": {},
   "source": [
    "- From the elbow curve above, the elbow point is 3 which is the point at which the rate of decrease in inertia slows down significantly.  \n",
    "- I will rebuild the K-means clustering with 3 clusters"
   ]
  },
  {
   "cell_type": "code",
   "execution_count": 90,
   "id": "bf7ba455",
   "metadata": {},
   "outputs": [
    {
     "name": "stderr",
     "output_type": "stream",
     "text": [
      "/Users/apple/opt/anaconda3/lib/python3.9/site-packages/sklearn/cluster/_kmeans.py:870: FutureWarning: The default value of `n_init` will change from 10 to 'auto' in 1.4. Set the value of `n_init` explicitly to suppress the warning\n",
      "  warnings.warn(\n"
     ]
    },
    {
     "data": {
      "text/plain": [
       "array([0, 0, 1, ..., 1, 2, 2], dtype=int32)"
      ]
     },
     "execution_count": 90,
     "metadata": {},
     "output_type": "execute_result"
    }
   ],
   "source": [
    "kmeans = KMeans(n_clusters=3, random_state=0) # creating an instance of the KMeans class\n",
    "clusters = kmeans.fit_predict(X_sysBP_sc) # computing the clusters \n",
    "clusters # displaying the clusters"
   ]
  },
  {
   "cell_type": "markdown",
   "id": "c77e69fb",
   "metadata": {},
   "source": [
    "#### Plotting a graph of the clusters and SystolicBP"
   ]
  },
  {
   "cell_type": "code",
   "execution_count": 91,
   "id": "0d71856a",
   "metadata": {},
   "outputs": [],
   "source": [
    "# adding the clusters to the dataframe\n",
    "df['Clusters'] = clusters"
   ]
  },
  {
   "cell_type": "code",
   "execution_count": 92,
   "id": "dc8c1638",
   "metadata": {},
   "outputs": [
    {
     "data": {
      "text/html": [
       "<div>\n",
       "<style scoped>\n",
       "    .dataframe tbody tr th:only-of-type {\n",
       "        vertical-align: middle;\n",
       "    }\n",
       "\n",
       "    .dataframe tbody tr th {\n",
       "        vertical-align: top;\n",
       "    }\n",
       "\n",
       "    .dataframe thead th {\n",
       "        text-align: right;\n",
       "    }\n",
       "</style>\n",
       "<table border=\"1\" class=\"dataframe\">\n",
       "  <thead>\n",
       "    <tr style=\"text-align: right;\">\n",
       "      <th></th>\n",
       "      <th>Age</th>\n",
       "      <th>SystolicBP</th>\n",
       "      <th>DiastolicBP</th>\n",
       "      <th>BS</th>\n",
       "      <th>BodyTemp</th>\n",
       "      <th>HeartRate</th>\n",
       "      <th>RiskLevel_high risk</th>\n",
       "      <th>RiskLevel_low risk</th>\n",
       "      <th>RiskLevel_mid risk</th>\n",
       "      <th>Age_Group</th>\n",
       "      <th>Systolic_Groups</th>\n",
       "      <th>Diastolic_Groups</th>\n",
       "      <th>Clusters</th>\n",
       "    </tr>\n",
       "  </thead>\n",
       "  <tbody>\n",
       "    <tr>\n",
       "      <th>0</th>\n",
       "      <td>25</td>\n",
       "      <td>130</td>\n",
       "      <td>80</td>\n",
       "      <td>15.0</td>\n",
       "      <td>98.0</td>\n",
       "      <td>86</td>\n",
       "      <td>1</td>\n",
       "      <td>0</td>\n",
       "      <td>0</td>\n",
       "      <td>25 - 29</td>\n",
       "      <td>Normal Systolic</td>\n",
       "      <td>Normal Diastolic</td>\n",
       "      <td>0</td>\n",
       "    </tr>\n",
       "    <tr>\n",
       "      <th>1</th>\n",
       "      <td>35</td>\n",
       "      <td>140</td>\n",
       "      <td>90</td>\n",
       "      <td>13.0</td>\n",
       "      <td>98.0</td>\n",
       "      <td>70</td>\n",
       "      <td>1</td>\n",
       "      <td>0</td>\n",
       "      <td>0</td>\n",
       "      <td>35 - 39</td>\n",
       "      <td>High Systolic</td>\n",
       "      <td>High Diastolic</td>\n",
       "      <td>0</td>\n",
       "    </tr>\n",
       "    <tr>\n",
       "      <th>2</th>\n",
       "      <td>29</td>\n",
       "      <td>90</td>\n",
       "      <td>70</td>\n",
       "      <td>8.0</td>\n",
       "      <td>100.0</td>\n",
       "      <td>80</td>\n",
       "      <td>1</td>\n",
       "      <td>0</td>\n",
       "      <td>0</td>\n",
       "      <td>25 - 29</td>\n",
       "      <td>Low Systolic</td>\n",
       "      <td>Normal Diastolic</td>\n",
       "      <td>1</td>\n",
       "    </tr>\n",
       "    <tr>\n",
       "      <th>3</th>\n",
       "      <td>30</td>\n",
       "      <td>140</td>\n",
       "      <td>85</td>\n",
       "      <td>7.0</td>\n",
       "      <td>98.0</td>\n",
       "      <td>70</td>\n",
       "      <td>1</td>\n",
       "      <td>0</td>\n",
       "      <td>0</td>\n",
       "      <td>30 - 34</td>\n",
       "      <td>High Systolic</td>\n",
       "      <td>Normal Diastolic</td>\n",
       "      <td>0</td>\n",
       "    </tr>\n",
       "    <tr>\n",
       "      <th>4</th>\n",
       "      <td>35</td>\n",
       "      <td>120</td>\n",
       "      <td>60</td>\n",
       "      <td>6.1</td>\n",
       "      <td>98.0</td>\n",
       "      <td>76</td>\n",
       "      <td>0</td>\n",
       "      <td>1</td>\n",
       "      <td>0</td>\n",
       "      <td>35 - 39</td>\n",
       "      <td>Normal Systolic</td>\n",
       "      <td>Low Diastolic</td>\n",
       "      <td>2</td>\n",
       "    </tr>\n",
       "  </tbody>\n",
       "</table>\n",
       "</div>"
      ],
      "text/plain": [
       "   Age  SystolicBP  DiastolicBP    BS  BodyTemp  HeartRate  \\\n",
       "0   25         130           80  15.0      98.0         86   \n",
       "1   35         140           90  13.0      98.0         70   \n",
       "2   29          90           70   8.0     100.0         80   \n",
       "3   30         140           85   7.0      98.0         70   \n",
       "4   35         120           60   6.1      98.0         76   \n",
       "\n",
       "   RiskLevel_high risk  RiskLevel_low risk  RiskLevel_mid risk Age_Group  \\\n",
       "0                    1                   0                   0   25 - 29   \n",
       "1                    1                   0                   0   35 - 39   \n",
       "2                    1                   0                   0   25 - 29   \n",
       "3                    1                   0                   0   30 - 34   \n",
       "4                    0                   1                   0   35 - 39   \n",
       "\n",
       "   Systolic_Groups  Diastolic_Groups  Clusters  \n",
       "0  Normal Systolic  Normal Diastolic         0  \n",
       "1    High Systolic    High Diastolic         0  \n",
       "2     Low Systolic  Normal Diastolic         1  \n",
       "3    High Systolic  Normal Diastolic         0  \n",
       "4  Normal Systolic     Low Diastolic         2  "
      ]
     },
     "execution_count": 92,
     "metadata": {},
     "output_type": "execute_result"
    }
   ],
   "source": [
    "df.head()"
   ]
  },
  {
   "cell_type": "code",
   "execution_count": 93,
   "id": "e78c2cb5",
   "metadata": {},
   "outputs": [
    {
     "name": "stderr",
     "output_type": "stream",
     "text": [
      "/Users/apple/opt/anaconda3/lib/python3.9/site-packages/seaborn/palettes.py:443: MatplotlibDeprecationWarning: The get_cmap function was deprecated in Matplotlib 3.7 and will be removed two minor releases later. Use ``matplotlib.colormaps[name]`` or ``matplotlib.colormaps.get_cmap(obj)`` instead.\n",
      "  cmap = mpl.cm.get_cmap(name)\n"
     ]
    },
    {
     "data": {
      "image/png": "[encoded data removed]",
      "text/plain": [
       "<Figure size 700x500 with 1 Axes>"
      ]
     },
     "metadata": {},
     "output_type": "display_data"
    }
   ],
   "source": [
    "# plotting clusters against systolic BP\n",
    "plt.figure(figsize = (7, 5)) # setting the figure size\n",
    "\n",
    "# plotting the scatterplot\n",
    "sns.scatterplot(x = df['SystolicBP'], y = df['SystolicBP'], hue = df['Clusters'], palette='viridis') \n",
    "plt.xlabel('SystolicBP') # setting the x-label\n",
    "plt.ylabel('SystolicBP') # setting the y-label\n",
    "plt.title('Systolic BP Cluster Groups') # setting the title name\n",
    "plt.show() # displaying the plot"
   ]
  },
  {
   "cell_type": "markdown",
   "id": "b95ca278",
   "metadata": {},
   "source": [
    "From the plot above, we can see that the algorithm grouped the patients into three distinct clusters\n",
    "\n",
    "`Cluster 0`\n",
    "- Minimum SystolicBP: 129\n",
    "- Median SystolicBP: 140\n",
    "- Maximum SystolicBP: 160  \n",
    "\n",
    "\n",
    "`Cluster 1`\n",
    "- Minimum SystolicBP: 70\n",
    "- Median SystolicBP: 90\n",
    "- Maximum SystolicBP: 100  \n",
    "\n",
    "\n",
    "`Cluster 2`\n",
    "- Minimum SystolicBP: 110\n",
    "- Median SystolicBP: 120\n",
    "- Maximum SystolicBP: 120  "
   ]
  },
  {
   "cell_type": "markdown",
   "id": "cf42b5cb",
   "metadata": {},
   "source": [
    "#### Silhouette Score\n",
    "\n",
    "- The silhouette score measures the similarity of data points to their clusters compared to surrounding clusters. \n",
    "- A higher score is ideal and shows that the clustering algorithm was effective"
   ]
  },
  {
   "cell_type": "code",
   "execution_count": 94,
   "id": "50aec585",
   "metadata": {},
   "outputs": [],
   "source": [
    "# importing the silhouette score\n",
    "from sklearn.metrics import silhouette_score"
   ]
  },
  {
   "cell_type": "code",
   "execution_count": 95,
   "id": "946e9310",
   "metadata": {},
   "outputs": [
    {
     "data": {
      "text/plain": [
       "0.8013183305009134"
      ]
     },
     "execution_count": 95,
     "metadata": {},
     "output_type": "execute_result"
    }
   ],
   "source": [
    "# computing the silhouette score\n",
    "kmeans_sil_score = silhouette_score(X_sysBP_sc, clusters)\n",
    "kmeans_sil_score"
   ]
  },
  {
   "cell_type": "markdown",
   "id": "6be3d8bb",
   "metadata": {},
   "source": [
    "The silhouette score for the clusters is `0.8` which shows a high degree of similarity within the clusters and good separation between other clusters as scores closer to 1 indicate more distinct and well separated clusters."
   ]
  },
  {
   "cell_type": "markdown",
   "id": "9ca52a1e",
   "metadata": {},
   "source": [
    "## Task 6\n",
    "\n",
    "**Calculate the correlation between Age and Systolic BP. Interpret your result.**"
   ]
  },
  {
   "cell_type": "code",
   "execution_count": 96,
   "id": "4fa1e4bb",
   "metadata": {},
   "outputs": [
    {
     "name": "stderr",
     "output_type": "stream",
     "text": [
      "/var/folders/2k/0kq3ns6d15zc29hhnqxvjj2m0000gp/T/ipykernel_10259/2553906411.py:1: FutureWarning: The default value of numeric_only in DataFrame.corr is deprecated. In a future version, it will default to False. Select only valid columns or specify the value of numeric_only to silence this warning.\n",
      "  corr_matrix = df.corr() # creating the correlation matrix\n"
     ]
    },
    {
     "data": {
      "text/plain": [
       "0.4172921436670313"
      ]
     },
     "execution_count": 96,
     "metadata": {},
     "output_type": "execute_result"
    }
   ],
   "source": [
    "corr_matrix = df.corr() # creating the correlation matrix\n",
    "age_sysbp_corr = corr_matrix.loc['Age', 'SystolicBP'] # computing the correlation between the age and systolicBP\n",
    "age_sysbp_corr"
   ]
  },
  {
   "cell_type": "markdown",
   "id": "cc5fadd9",
   "metadata": {},
   "source": [
    "The correlation between age and systolic BP is `0.42`. This is a moderate positive linear relationship and it means that as age increases, systolic BP also increases.  "
   ]
  },
  {
   "cell_type": "code",
   "execution_count": 97,
   "id": "488be4df",
   "metadata": {},
   "outputs": [
    {
     "data": {
      "image/png": "[encoded data removed]",
      "text/plain": [
       "<Figure size 800x600 with 2 Axes>"
      ]
     },
     "metadata": {},
     "output_type": "display_data"
    }
   ],
   "source": [
    "# plotting a heatmap\n",
    "plt.figure(figsize = (8, 6)) # setting the figure size\n",
    "sns.heatmap(data = df[['SystolicBP', 'Age']].corr(), vmax=1, vmin=-1, annot=True) # plotting the heatmap\n",
    "plt.title('Heat Map of Age against Systolic BP') # setting the title\n",
    "plt.show() # displaying the plot"
   ]
  },
  {
   "cell_type": "markdown",
   "id": "dd70d7e4",
   "metadata": {},
   "source": [
    "- The heatmap above corroborates the computed correlation."
   ]
  },
  {
   "cell_type": "markdown",
   "id": "681b54bf",
   "metadata": {},
   "source": [
    "#### Regression Analysis\n",
    "\n",
    "I am computing a regression analysis to further investigate the relationship between Age and Systolic BP."
   ]
  },
  {
   "cell_type": "code",
   "execution_count": 98,
   "id": "5803fbe4",
   "metadata": {},
   "outputs": [
    {
     "name": "stdout",
     "output_type": "stream",
     "text": [
      "Requirement already satisfied: statsmodels in /Users/apple/opt/anaconda3/lib/python3.9/site-packages (0.13.2)\n",
      "Requirement already satisfied: pandas>=0.25 in /Users/apple/opt/anaconda3/lib/python3.9/site-packages (from statsmodels) (1.5.3)\n",
      "Requirement already satisfied: patsy>=0.5.2 in /Users/apple/opt/anaconda3/lib/python3.9/site-packages (from statsmodels) (0.5.3)\n",
      "Requirement already satisfied: scipy>=1.3 in /Users/apple/opt/anaconda3/lib/python3.9/site-packages (from statsmodels) (1.10.1)\n",
      "Requirement already satisfied: packaging>=21.3 in /Users/apple/opt/anaconda3/lib/python3.9/site-packages (from statsmodels) (23.0)\n",
      "Requirement already satisfied: numpy>=1.17 in /Users/apple/opt/anaconda3/lib/python3.9/site-packages (from statsmodels) (1.23.5)\n",
      "Requirement already satisfied: python-dateutil>=2.8.1 in /Users/apple/opt/anaconda3/lib/python3.9/site-packages (from pandas>=0.25->statsmodels) (2.8.2)\n",
      "Requirement already satisfied: pytz>=2020.1 in /Users/apple/opt/anaconda3/lib/python3.9/site-packages (from pandas>=0.25->statsmodels) (2022.7)\n",
      "Requirement already satisfied: six in /Users/apple/opt/anaconda3/lib/python3.9/site-packages (from patsy>=0.5.2->statsmodels) (1.16.0)\n"
     ]
    }
   ],
   "source": [
    "!pip install statsmodels"
   ]
  },
  {
   "cell_type": "code",
   "execution_count": 99,
   "id": "f1ab07a5",
   "metadata": {},
   "outputs": [
    {
     "name": "stdout",
     "output_type": "stream",
     "text": [
      "                            OLS Regression Results                            \n",
      "==============================================================================\n",
      "Dep. Variable:             SystolicBP   R-squared:                       0.174\n",
      "Model:                            OLS   Adj. R-squared:                  0.173\n",
      "Method:                 Least Squares   F-statistic:                     213.0\n",
      "Date:                Fri, 12 May 2023   Prob (F-statistic):           6.56e-44\n",
      "Time:                        09:32:21   Log-Likelihood:                -4287.0\n",
      "No. Observations:                1012   AIC:                             8578.\n",
      "Df Residuals:                    1010   BIC:                             8588.\n",
      "Df Model:                           1                                         \n",
      "Covariance Type:            nonrobust                                         \n",
      "==============================================================================\n",
      "                 coef    std err          t      P>|t|      [0.025      0.975]\n",
      "------------------------------------------------------------------------------\n",
      "const         96.1280      1.282     74.987      0.000      93.612      98.643\n",
      "Age            0.5705      0.039     14.593      0.000       0.494       0.647\n",
      "==============================================================================\n",
      "Omnibus:                       24.212   Durbin-Watson:                   1.955\n",
      "Prob(Omnibus):                  0.000   Jarque-Bera (JB):               20.412\n",
      "Skew:                          -0.277   Prob(JB):                     3.69e-05\n",
      "Kurtosis:                       2.579   Cond. No.                         79.9\n",
      "==============================================================================\n",
      "\n",
      "Notes:\n",
      "[1] Standard Errors assume that the covariance matrix of the errors is correctly specified.\n"
     ]
    }
   ],
   "source": [
    "# importing the statsmodel library\n",
    "import statsmodels.api as sm\n",
    "\n",
    "# generate some random data\n",
    "x = df['Age']\n",
    "y = df['SystolicBP']\n",
    "\n",
    "# adding a constant to the x values\n",
    "x = sm.add_constant(x)\n",
    "\n",
    "# fit the regression model\n",
    "model = sm.OLS(y, x).fit()\n",
    "\n",
    "# print the model summary\n",
    "print(model.summary())"
   ]
  },
  {
   "cell_type": "markdown",
   "id": "50321e98",
   "metadata": {},
   "source": [
    "- The regression analysis above computes a p-value of 6.56e-44 (6.56x10<sup>^-44</sup>) which is a very small value and hence rejects the null hypothesis which assumes by default that there is no relationship between the variables.\n",
    "\n",
    "- This points to a strong evidence of a relationship between age and systolic BP which is does not occur by chance. "
   ]
  },
  {
   "cell_type": "code",
   "execution_count": null,
   "id": "8e703c1d",
   "metadata": {},
   "outputs": [],
   "source": []
  },
  {
   "cell_type": "code",
   "execution_count": null,
   "id": "17965c13",
   "metadata": {},
   "outputs": [],
   "source": []
  }
 ],
 "metadata": {
  "kernelspec": {
   "display_name": "Python 3 (ipykernel)",
   "language": "python",
   "name": "python3"
  },
  "language_info": {
   "codemirror_mode": {
    "name": "ipython",
    "version": 3
   },
   "file_extension": ".py",
   "mimetype": "text/x-python",
   "name": "python",
   "nbconvert_exporter": "python",
   "pygments_lexer": "ipython3",
   "version": "3.11.5"
  }
 },
 "nbformat": 4,
 "nbformat_minor": 5
}
